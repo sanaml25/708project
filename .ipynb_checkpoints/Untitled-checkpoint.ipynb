{
 "cells": [
  {
   "cell_type": "code",
   "execution_count": 1,
   "id": "4dcaad2f",
   "metadata": {},
   "outputs": [],
   "source": [
    "import numpy as np"
   ]
  },
  {
   "cell_type": "code",
   "execution_count": 2,
   "id": "f2bdc07a",
   "metadata": {},
   "outputs": [],
   "source": [
    "df = np.array([[0.48, 0.29, 0.35, 0.3 ],\n",
    "       [0.9 , 0.75, 0.45, 0.16],\n",
    "       [0.21, 0.04, 0.83, 0.89],\n",
    "       [0.45, 0.45, 0.59, 0.5 ],\n",
    "       [0.98, 0.78, 0.42, 0.99],\n",
    "       [0.84, 0.71, 0.02, 0.99]])"
   ]
  },
  {
   "cell_type": "code",
   "execution_count": 4,
   "id": "779f757e",
   "metadata": {},
   "outputs": [],
   "source": [
    "df_centered = df # (df - np.min(df, axis = 0)) / (np.max(df, axis = 0) - np.min(df, axis = 0))"
   ]
  },
  {
   "cell_type": "code",
   "execution_count": 9,
   "id": "8934852b",
   "metadata": {},
   "outputs": [
    {
     "data": {
      "text/plain": [
       "array([[ 0.1584528 ,  0.15550486, -0.08660146,  0.01180827],\n",
       "       [ 0.15550486,  0.16184563, -0.0865421 ,  0.00486269],\n",
       "       [-0.08660146, -0.0865421 ,  0.10959711, -0.01537012],\n",
       "       [ 0.01180827,  0.00486269, -0.01537012,  0.19540814]])"
      ]
     },
     "execution_count": 9,
     "metadata": {},
     "output_type": "execute_result"
    }
   ],
   "source": [
    "m = np.cov(df_centered.T)\n",
    "m"
   ]
  },
  {
   "cell_type": "code",
   "execution_count": 12,
   "id": "155a896b",
   "metadata": {},
   "outputs": [],
   "source": [
    "eigenvalues, eigenvectors = np.linalg.eigh(m)"
   ]
  },
  {
   "cell_type": "code",
   "execution_count": 13,
   "id": "01f7b55a",
   "metadata": {},
   "outputs": [
    {
     "data": {
      "text/plain": [
       "array([0.00450186, 0.05205281, 0.19445637, 0.37429265])"
      ]
     },
     "execution_count": 13,
     "metadata": {},
     "output_type": "execute_result"
    }
   ],
   "source": [
    "eigenvalues"
   ]
  },
  {
   "cell_type": "code",
   "execution_count": 14,
   "id": "24c8c586",
   "metadata": {},
   "outputs": [
    {
     "data": {
      "text/plain": [
       "array([[-0.71348248,  0.28905534, -0.06108625,  0.63534104],\n",
       "       [ 0.70016075,  0.30209841, -0.09885978,  0.63932638],\n",
       "       [-0.00761671,  0.90620172, -0.01671157, -0.42244663],\n",
       "       [ 0.02568411,  0.06310317,  0.99308405,  0.0956158 ]])"
      ]
     },
     "execution_count": 14,
     "metadata": {},
     "output_type": "execute_result"
    }
   ],
   "source": [
    "eigenvectors"
   ]
  },
  {
   "cell_type": "code",
   "execution_count": 15,
   "id": "7b9eb950",
   "metadata": {},
   "outputs": [
    {
     "data": {
      "text/plain": [
       "array([[ 0.63534104, -0.06108625,  0.28905534, -0.71348248],\n",
       "       [ 0.63932638, -0.09885978,  0.30209841,  0.70016075],\n",
       "       [-0.42244663, -0.01671157,  0.90620172, -0.00761671],\n",
       "       [ 0.0956158 ,  0.99308405,  0.06310317,  0.02568411]])"
      ]
     },
     "execution_count": 15,
     "metadata": {},
     "output_type": "execute_result"
    }
   ],
   "source": [
    "eigenvectors_sorted = eigenvectors[:, ::-1]\n",
    "eigenvectors_sorted"
   ]
  },
  {
   "cell_type": "code",
   "execution_count": 16,
   "id": "5caf0988",
   "metadata": {},
   "outputs": [
    {
     "data": {
      "text/plain": [
       "array([0.37429265, 0.19445637, 0.05205281, 0.00450186])"
      ]
     },
     "execution_count": 16,
     "metadata": {},
     "output_type": "execute_result"
    }
   ],
   "source": [
    "eigenvalues_sorted = eigenvalues[::-1]\n",
    "eigenvalues_sorted"
   ]
  },
  {
   "cell_type": "code",
   "execution_count": 36,
   "id": "7ca391a0",
   "metadata": {
    "scrolled": true
   },
   "outputs": [
    {
     "data": {
      "text/plain": [
       "array([[ 0.28279064,  0.1058813 ],\n",
       "       [ 0.95847753, -0.15846316],\n",
       "       [-0.33835081,  0.8567238 ],\n",
       "       [ 0.29414041,  0.32123199],\n",
       "       [ 1.1616676 ,  0.82488539],\n",
       "       [ 1.19428985,  0.85359621]])"
      ]
     },
     "execution_count": 36,
     "metadata": {},
     "output_type": "execute_result"
    }
   ],
   "source": [
    "pca1 = np.dot(df_centered, eigenvectors_sorted[:, [0, 1]])\n",
    "pca1"
   ]
  },
  {
   "cell_type": "code",
   "execution_count": 37,
   "id": "71bd9d5c",
   "metadata": {},
   "outputs": [
    {
     "data": {
      "text/plain": [
       "array([[ 0.17320061,  0.17032812, -0.1212334 ,  0.13218829],\n",
       "       [ 0.61864003,  0.62844561, -0.40225744, -0.06572164],\n",
       "       [-0.2673022 , -0.30101213,  0.12861796,  0.81844706],\n",
       "       [ 0.16725661,  0.1562948 , -0.12962692,  0.34713483],\n",
       "       [ 0.68766594,  0.66113676, -0.5045277 ,  0.9302543 ],\n",
       "       [ 0.70663836,  0.67915467, -0.51878866,  0.96188576]])"
      ]
     },
     "execution_count": 37,
     "metadata": {},
     "output_type": "execute_result"
    }
   ],
   "source": [
    "d_prime1 = np.dot(pca1, eigenvectors_sorted.T[[0, 1], :])\n",
    "d_prime1"
   ]
  },
  {
   "cell_type": "code",
   "execution_count": 38,
   "id": "e6e47221",
   "metadata": {},
   "outputs": [
    {
     "data": {
      "text/plain": [
       "4.752629745138963"
      ]
     },
     "execution_count": 38,
     "metadata": {},
     "output_type": "execute_result"
    }
   ],
   "source": [
    "np.sum((df_centered - d_prime1)**2)"
   ]
  },
  {
   "cell_type": "code",
   "execution_count": 39,
   "id": "cb971dc4",
   "metadata": {},
   "outputs": [
    {
     "data": {
      "text/plain": [
       "array([[ 0.28279064,  0.58325454],\n",
       "       [ 0.95847753,  1.02994484],\n",
       "       [-0.33835081,  0.96170209],\n",
       "       [ 0.29414041,  0.92102101],\n",
       "       [ 1.1616676 ,  1.10176394],\n",
       "       [ 1.19428985,  0.57312452]])"
      ]
     },
     "execution_count": 39,
     "metadata": {},
     "output_type": "execute_result"
    }
   ],
   "source": [
    "pca2 = np.dot(df_centered, eigenvectors_sorted[:, [0, 2]])\n",
    "pca2"
   ]
  },
  {
   "cell_type": "code",
   "execution_count": 40,
   "id": "21ffab40",
   "metadata": {},
   "outputs": [
    {
     "data": {
      "text/plain": [
       "array([[0.34826134, 0.35699579, 0.40908231, 0.06384446],\n",
       "       [0.90667117, 0.92392467, 0.52843218, 0.15663837],\n",
       "       [0.06301697, 0.07421207, 1.01443125, 0.02833476],\n",
       "       [0.45310552, 0.4662907 , 0.7103722 , 0.08624381],\n",
       "       [1.05652585, 1.07552588, 0.5076778 , 0.18059856],\n",
       "       [0.92444606, 0.93668102, 0.0148427 , 0.15035895]])"
      ]
     },
     "execution_count": 40,
     "metadata": {},
     "output_type": "execute_result"
    }
   ],
   "source": [
    "d_prime2 = np.dot(pca2, eigenvectors_sorted.T[[0, 2], :])\n",
    "d_prime2"
   ]
  },
  {
   "cell_type": "code",
   "execution_count": 41,
   "id": "41479637",
   "metadata": {},
   "outputs": [
    {
     "data": {
      "text/plain": [
       "2.318700874063722"
      ]
     },
     "execution_count": 41,
     "metadata": {},
     "output_type": "execute_result"
    }
   ],
   "source": [
    "np.sum((df_centered - d_prime2)**2)"
   ]
  },
  {
   "cell_type": "code",
   "execution_count": null,
   "id": "98d6ce90",
   "metadata": {},
   "outputs": [],
   "source": []
  }
 ],
 "metadata": {
  "kernelspec": {
   "display_name": "Python 3",
   "language": "python",
   "name": "python3"
  },
  "language_info": {
   "codemirror_mode": {
    "name": "ipython",
    "version": 3
   },
   "file_extension": ".py",
   "mimetype": "text/x-python",
   "name": "python",
   "nbconvert_exporter": "python",
   "pygments_lexer": "ipython3",
   "version": "3.6.13"
  }
 },
 "nbformat": 4,
 "nbformat_minor": 5
}
