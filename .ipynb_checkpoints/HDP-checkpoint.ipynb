{
 "cells": [
  {
   "cell_type": "code",
   "execution_count": 1,
   "id": "present-midwest",
   "metadata": {},
   "outputs": [],
   "source": [
    "import scanpy as sc\n",
    "import pandas as pd\n",
    "from sklearn.manifold import TSNE\n",
    "import matplotlib.pyplot as plt"
   ]
  },
  {
   "cell_type": "markdown",
   "id": "4c28b445",
   "metadata": {},
   "source": [
    "# Model Code (Start Here)"
   ]
  },
  {
   "cell_type": "code",
   "execution_count": 9,
   "id": "f0493735",
   "metadata": {},
   "outputs": [],
   "source": [
    "import pickle\n",
    "with open('bow_model.pkl', 'rb') as f:\n",
    "    bow_model = pickle.load(f)"
   ]
  },
  {
   "cell_type": "code",
   "execution_count": 3,
   "id": "91fdade1",
   "metadata": {},
   "outputs": [
    {
     "name": "stdout",
     "output_type": "stream",
     "text": [
      "96303\n"
     ]
    }
   ],
   "source": [
    "print(len(bow_model))"
   ]
  },
  {
   "cell_type": "code",
   "execution_count": 4,
   "id": "53c46fb4",
   "metadata": {},
   "outputs": [
    {
     "name": "stdout",
     "output_type": "stream",
     "text": [
      "[[(0, 3), (1, 1), (2, 2), (3, 1), (4, 2), (5, 4), (6, 1), (7, 2), (8, 1), (9, 1), (10, 1), (11, 6), (12, 2), (13, 2), (14, 1), (15, 1), (16, 1), (17, 1), (18, 4), (19, 1), (20, 1), (21, 2), (22, 3), (23, 1), (24, 2), (25, 1), (26, 1), (27, 1), (28, 1), (29, 1), (30, 1), (31, 1), (32, 1), (33, 1), (34, 1), (35, 1), (36, 3), (37, 3), (38, 1), (39, 5), (40, 1), (41, 3), (42, 1), (43, 1), (44, 1), (45, 2), (46, 1), (47, 2), (48, 1), (49, 1), (50, 2), (51, 1), (52, 1), (53, 1), (54, 1), (55, 1), (56, 2), (57, 3), (58, 2), (59, 1), (60, 2), (61, 1), (62, 1), (63, 1), (64, 1), (65, 1), (66, 1), (67, 1), (68, 1), (69, 1), (70, 1), (71, 1), (72, 1), (73, 2), (74, 1), (75, 1), (76, 1), (77, 1), (78, 1), (79, 1), (80, 1), (81, 2), (82, 1), (83, 3), (84, 7), (85, 1), (86, 1), (87, 1), (88, 1), (89, 1), (90, 1), (91, 1), (92, 1), (93, 1), (94, 1), (95, 5), (96, 2), (97, 1), (98, 1), (99, 1), (100, 3), (101, 4), (102, 1), (103, 1), (104, 1), (105, 1), (106, 1), (107, 1), (108, 1), (109, 1), (110, 1), (111, 1), (112, 8), (113, 1), (114, 1), (115, 2), (116, 1), (117, 13), (118, 3), (119, 1), (120, 2), (121, 1), (122, 1), (123, 1), (124, 1), (125, 2), (126, 1), (127, 1), (128, 1), (129, 3), (130, 1), (131, 2), (132, 1), (133, 1), (134, 1), (135, 1), (136, 1), (137, 2), (138, 2), (139, 1), (140, 1), (141, 2), (142, 6), (143, 4), (144, 2), (145, 1), (146, 1), (147, 4), (148, 1), (149, 17), (150, 9), (151, 1), (152, 2), (153, 1), (154, 1), (155, 1), (156, 1), (157, 1), (158, 1), (159, 1), (160, 11), (161, 2), (162, 1), (163, 3), (164, 1), (165, 1), (166, 1), (167, 1), (168, 1), (169, 3), (170, 2), (171, 1), (172, 1), (173, 1), (174, 3), (175, 1), (176, 1), (177, 1), (178, 1), (179, 1), (180, 1), (181, 12), (182, 4), (183, 2), (184, 1), (185, 5), (186, 2), (187, 4), (188, 2), (189, 1), (190, 1), (191, 1), (192, 1), (193, 1), (194, 1), (195, 1), (196, 2), (197, 1), (198, 1), (199, 3), (200, 4), (201, 1), (202, 2), (203, 1), (204, 1), (205, 1), (206, 1), (207, 2), (208, 7), (209, 1), (210, 1), (211, 1), (212, 3), (213, 2), (214, 1), (215, 1), (216, 1), (217, 2), (218, 1), (219, 3), (220, 1), (221, 1), (222, 1), (223, 1), (224, 2), (225, 5), (226, 4), (227, 1), (228, 3), (229, 1), (230, 1), (231, 16), (232, 17), (233, 1), (234, 6), (235, 2), (236, 1), (237, 1), (238, 1), (239, 1), (240, 1), (241, 1), (242, 2), (243, 1), (244, 1), (245, 1), (246, 1), (247, 1), (248, 7), (249, 3), (250, 1), (251, 3), (252, 5), (253, 3), (254, 2), (255, 1), (256, 1), (257, 1), (258, 1), (259, 2), (260, 2), (261, 1), (262, 21), (263, 1), (264, 1), (265, 1), (266, 1), (267, 5), (268, 1), (269, 3), (270, 4), (271, 4), (272, 2), (273, 1), (274, 1), (275, 1), (276, 5), (277, 1), (278, 1), (279, 2), (280, 2), (281, 1), (282, 3), (283, 2), (284, 2), (285, 1)]]\n"
     ]
    }
   ],
   "source": [
    "import gensim.corpora as corpora\n",
    "id2word = corpora.Dictionary(bow_model)\n",
    "# Create Corpus\n",
    "texts = bow_model\n",
    "# Term Document Frequency\n",
    "corpus = [id2word.doc2bow(text) for text in texts]\n",
    "# View\n",
    "print(corpus[:1])"
   ]
  },
  {
   "cell_type": "code",
   "execution_count": 5,
   "id": "e6ccd4da",
   "metadata": {},
   "outputs": [],
   "source": [
    "from gensim.models import LdaMulticore\n",
    "from gensim.models import TfidfModel"
   ]
  },
  {
   "cell_type": "code",
   "execution_count": 7,
   "id": "4fab1b35",
   "metadata": {},
   "outputs": [],
   "source": [
    "model = TfidfModel(corpus)"
   ]
  },
  {
   "cell_type": "code",
   "execution_count": 8,
   "id": "142b7034",
   "metadata": {},
   "outputs": [],
   "source": [
    "corpus_tfidf = model[corpus]"
   ]
  },
  {
   "cell_type": "code",
   "execution_count": 24,
   "id": "42de4b57",
   "metadata": {},
   "outputs": [],
   "source": [
    "from gensim.corpora.mmcorpus import MmCorpus\n",
    "from gensim.corpora.dictionary import Dictionary"
   ]
  },
  {
   "cell_type": "code",
   "execution_count": 20,
   "id": "3bbc3f96",
   "metadata": {},
   "outputs": [],
   "source": [
    "MmCorpus.serialize(\"./models/tfidf_model\", corpus=corpus_tfidf, id2word=id2word)"
   ]
  },
  {
   "cell_type": "code",
   "execution_count": 21,
   "id": "a34bb038",
   "metadata": {},
   "outputs": [],
   "source": [
    "id2word.save(\"./models/bow_dict\")"
   ]
  },
  {
   "cell_type": "markdown",
   "id": "62536b6a",
   "metadata": {},
   "source": [
    "## Start Here"
   ]
  },
  {
   "cell_type": "code",
   "execution_count": 2,
   "id": "62102f8a",
   "metadata": {},
   "outputs": [],
   "source": [
    "from gensim.corpora.mmcorpus import MmCorpus\n",
    "from gensim.corpora.dictionary import Dictionary\n",
    "from gensim.models import LdaMulticore\n",
    "from gensim.models import TfidfModel\n",
    "from gensim.models import HdpModel"
   ]
  },
  {
   "cell_type": "code",
   "execution_count": 3,
   "id": "0a692968",
   "metadata": {},
   "outputs": [],
   "source": [
    "tfidf = MmCorpus(\"./models/tfidf_model\")"
   ]
  },
  {
   "cell_type": "code",
   "execution_count": 4,
   "id": "771dad15",
   "metadata": {},
   "outputs": [],
   "source": [
    "id2word = Dictionary.load(\"./models/bow_dict\")"
   ]
  },
  {
   "cell_type": "code",
   "execution_count": 5,
   "id": "94357bd3",
   "metadata": {},
   "outputs": [],
   "source": [
    "# Build LDA model\n",
    "lda_model = LdaMulticore(corpus=tfidf,\n",
    "                         id2word=id2word,\n",
    "                         num_topics=20, \n",
    "                         random_state=100,\n",
    "                         passes=5,\n",
    "                         workers=2,\n",
    "                         per_word_topics=True)"
   ]
  },
  {
   "cell_type": "code",
   "execution_count": 7,
   "id": "3dd608f2",
   "metadata": {},
   "outputs": [
    {
     "name": "stdout",
     "output_type": "stream",
     "text": [
      "[(0,\n",
      "  '0.021*\"GNLY\" + 0.014*\"CCL4\" + 0.010*\"NKG7\" + 0.010*\"CCL5\" + 0.009*\"CD247\" + '\n",
      "  '0.007*\"KLRD1\" + 0.007*\"GZMB\" + 0.006*\"PRF1\" + 0.006*\"GNG2\" + 0.006*\"CD69\"'),\n",
      " (1,\n",
      "  '0.000*\"S100A8\" + 0.000*\"S100A9\" + 0.000*\"S100A12\" + 0.000*\"APOE\" + '\n",
      "  '0.000*\"FABP4\" + 0.000*\"C1QB\" + 0.000*\"C1QA\" + 0.000*\"IL1R2\" + 0.000*\"CD52\" '\n",
      "  '+ 0.000*\"LSAMP\"'),\n",
      " (2,\n",
      "  '0.024*\"SFTPB\" + 0.017*\"EMP2\" + 0.017*\"NTM\" + 0.014*\"AGER\" + 0.014*\"GPRC5A\" '\n",
      "  '+ 0.012*\"KRT7\" + 0.012*\"CAV1\" + 0.012*\"LMO7\" + 0.010*\"KRT19\" + '\n",
      "  '0.009*\"GPC5\"'),\n",
      " (3,\n",
      "  '0.000*\"ZNF331\" + 0.000*\"S100A8\" + 0.000*\"APOE\" + 0.000*\"CNOT6L\" + '\n",
      "  '0.000*\"S100A9\" + 0.000*\"C1QA\" + 0.000*\"MTCO1P40\" + 0.000*\"C1QB\" + '\n",
      "  '0.000*\"RGS1\" + 0.000*\"TFRC\"'),\n",
      " (4,\n",
      "  '0.005*\"PID1\" + 0.004*\"AREG\" + 0.004*\"SLC16A10\" + 0.004*\"THBS1\" + '\n",
      "  '0.004*\"EREG\" + 0.004*\"ZNF331\" + 0.003*\"JARID2\" + 0.003*\"SIPA1L1\" + '\n",
      "  '0.003*\"DOCK4\" + 0.003*\"ABCA1\"'),\n",
      " (5,\n",
      "  '0.013*\"FABP4\" + 0.009*\"C1QB\" + 0.008*\"C1QA\" + 0.008*\"LSAMP\" + 0.007*\"FN1\" + '\n",
      "  '0.007*\"MSR1\" + 0.007*\"APOE\" + 0.005*\"CD52\" + 0.005*\"MTND4P12\" + '\n",
      "  '0.005*\"C1QC\"'),\n",
      " (6,\n",
      "  '0.017*\"SFTPC\" + 0.010*\"CCL21\" + 0.010*\"SFTPB\" + 0.004*\"MGP\" + '\n",
      "  '0.004*\"SPARCL1\" + 0.004*\"MACROD2\" + 0.004*\"SFTPA1\" + 0.004*\"ZNF385B\" + '\n",
      "  '0.004*\"SFTPA2\" + 0.004*\"FCN3\"'),\n",
      " (7,\n",
      "  '0.015*\"S100A8\" + 0.010*\"EREG\" + 0.010*\"S100A9\" + 0.009*\"THBS1\" + '\n",
      "  '0.008*\"IL1R2\" + 0.007*\"CXCL8\" + 0.006*\"AREG\" + 0.006*\"CXCL2\" + '\n",
      "  '0.005*\"SERPINB2\" + 0.005*\"VCAN\"'),\n",
      " (8,\n",
      "  '0.008*\"CFAP299\" + 0.008*\"CAPS\" + 0.007*\"DNAH12\" + 0.006*\"HYDIN\" + '\n",
      "  '0.006*\"TPPP3\" + 0.006*\"RP1\" + 0.006*\"AGBL4\" + 0.006*\"SCGB1A1\" + '\n",
      "  '0.005*\"RSPH1\" + 0.005*\"LRRIQ1\"'),\n",
      " (9,\n",
      "  '0.000*\"MTCO1P40\" + 0.000*\"APOE\" + 0.000*\"S100A8\" + 0.000*\"C1QB\" + '\n",
      "  '0.000*\"C1QA\" + 0.000*\"FABP4\" + 0.000*\"S100A9\" + 0.000*\"IFI27\" + '\n",
      "  '0.000*\"C1QC\" + 0.000*\"CD52\"'),\n",
      " (10,\n",
      "  '0.654*\"SPP1\" + 0.017*\"CCL2\" + 0.013*\"SPINK1\" + 0.010*\"MMP7\" + 0.009*\"IL1RN\" '\n",
      "  '+ 0.009*\"CHI3L1\" + 0.007*\"LINC02244\" + 0.006*\"CYP1B1\" + 0.006*\"MUCL1\" + '\n",
      "  '0.006*\"CCL20\"'),\n",
      " (11,\n",
      "  '0.225*\"CXCL9\" + 0.183*\"CXCL10\" + 0.034*\"ISG15\" + 0.029*\"CXCL11\" + '\n",
      "  '0.022*\"IFIT2\" + 0.017*\"GBP1\" + 0.016*\"IDO1\" + 0.015*\"IFIT1\" + 0.012*\"IFIT3\" '\n",
      "  '+ 0.011*\"RSAD2\"'),\n",
      " (12,\n",
      "  '0.064*\"ENSG00000271933\" + 0.000*\"TTTY14\" + 0.000*\"APOE\" + 0.000*\"C1QA\" + '\n",
      "  '0.000*\"PDK4\" + 0.000*\"C1QB\" + 0.000*\"C1QC\" + 0.000*\"FABP4\" + 0.000*\"TEX14\" '\n",
      "  '+ 0.000*\"MSR1\"'),\n",
      " (13,\n",
      "  '0.025*\"ENSG00000240040\" + 0.011*\"TNFRSF13C\" + 0.010*\"AFF3\" + 0.010*\"IGHM\" + '\n",
      "  '0.009*\"IGLC2\" + 0.008*\"BANK1\" + 0.008*\"EBF1\" + 0.008*\"ADAM28\" + '\n",
      "  '0.008*\"MS4A1\" + 0.008*\"IGLC3\"'),\n",
      " (14,\n",
      "  '0.082*\"IL1B\" + 0.077*\"CCL20\" + 0.066*\"CCL4L2\" + 0.062*\"CXCL8\" + '\n",
      "  '0.059*\"CCL4\" + 0.059*\"ENSG00000276085\" + 0.048*\"CXCL2\" + 0.042*\"CXCL3\" + '\n",
      "  '0.029*\"CXCL1\" + 0.025*\"EREG\"'),\n",
      " (15,\n",
      "  '0.008*\"CNOT6L\" + 0.007*\"ITK\" + 0.007*\"CD69\" + 0.006*\"PPP1R16B\" + '\n",
      "  '0.005*\"PBX4\" + 0.005*\"FYN\" + 0.004*\"FAM129A\" + 0.004*\"GNG2\" + 0.004*\"IL32\" '\n",
      "  '+ 0.004*\"SYTL3\"'),\n",
      " (16,\n",
      "  '0.173*\"TPSB2\" + 0.129*\"TPSAB1\" + 0.048*\"IL1RL1\" + 0.018*\"KIT\" + '\n",
      "  '0.017*\"CPA3\" + 0.015*\"SLC24A3\" + 0.012*\"ADAM12\" + 0.010*\"CD69\" + '\n",
      "  '0.010*\"NTM\" + 0.010*\"HPGDS\"'),\n",
      " (17,\n",
      "  '0.234*\"MT1G\" + 0.213*\"MT1X\" + 0.107*\"MT1E\" + 0.094*\"MT1H\" + 0.051*\"MT1M\" + '\n",
      "  '0.038*\"MT1F\" + 0.036*\"ENSG00000263574\" + 0.035*\"MT1L\" + 0.014*\"MT2P1\" + '\n",
      "  '0.012*\"MT1A\"'),\n",
      " (18,\n",
      "  '0.157*\"PPBP\" + 0.000*\"MMP7\" + 0.000*\"APOE\" + 0.000*\"CHI3L1\" + 0.000*\"CHIT1\" '\n",
      "  '+ 0.000*\"CNOT6L\" + 0.000*\"C1QB\" + 0.000*\"S100A8\" + 0.000*\"ZNF331\" + '\n",
      "  '0.000*\"C1QA\"'),\n",
      " (19,\n",
      "  '0.018*\"APOE\" + 0.009*\"CCL18\" + 0.007*\"CXCL8\" + 0.007*\"CCL2\" + 0.005*\"CTSL\" '\n",
      "  '+ 0.005*\"CXCL2\" + 0.005*\"HMOX1\" + 0.005*\"CCL20\" + 0.005*\"RNASE1\" + '\n",
      "  '0.005*\"CXCL3\"')]\n"
     ]
    }
   ],
   "source": [
    "from pprint import pprint\n",
    "# Print the Keyword in the 10 topics\n",
    "pprint(lda_model.print_topics())\n",
    "doc_lda = lda_model[tfidf]"
   ]
  },
  {
   "cell_type": "code",
   "execution_count": 11,
   "id": "b494d24f",
   "metadata": {},
   "outputs": [],
   "source": [
    "hdp_model = HdpModel(corpus=tfidf,\n",
    "                     id2word=id2word,\n",
    "                     T=50, \n",
    "                     random_state=100)"
   ]
  },
  {
   "cell_type": "code",
   "execution_count": 16,
   "id": "125adcaa",
   "metadata": {},
   "outputs": [
    {
     "name": "stdout",
     "output_type": "stream",
     "text": [
      "\n",
      "Coherence Score:  0.34483329724304196\n"
     ]
    }
   ],
   "source": [
    "from gensim.models import CoherenceModel\n",
    "# Compute Coherence Score\n",
    "coherence_model_lda = CoherenceModel(model=hdp_model, texts=bow_model, dictionary=id2word, coherence='c_v')\n",
    "coherence_lda = coherence_model_lda.get_coherence()\n",
    "print('\\nCoherence Score: ', coherence_lda)"
   ]
  },
  {
   "cell_type": "code",
   "execution_count": 17,
   "id": "15d5d260",
   "metadata": {},
   "outputs": [],
   "source": [
    "hdp_model.save('./models/hdp_model')"
   ]
  },
  {
   "cell_type": "code",
   "execution_count": 19,
   "id": "125712f4",
   "metadata": {},
   "outputs": [],
   "source": [
    "alpha = hdp_model.hdp_to_lda()[0]"
   ]
  },
  {
   "cell_type": "code",
   "execution_count": 20,
   "id": "0e46b17c",
   "metadata": {},
   "outputs": [
    {
     "name": "stdout",
     "output_type": "stream",
     "text": [
      "[0.03547636 0.02081038 0.02012473 0.02096291 0.0204658  0.02042049\n",
      " 0.02027326 0.02022059 0.01949916 0.02026194 0.01993811 0.01988538\n",
      " 0.01970908 0.01989725 0.0196314  0.01969387 0.01927712 0.01958668\n",
      " 0.01922136 0.01970101 0.01947546 0.01983181 0.01953373 0.01931925\n",
      " 0.0199456  0.01998411 0.01980999 0.01947548 0.01938814 0.01955799\n",
      " 0.02027156 0.01967612 0.01945339 0.01997091 0.01971437 0.01981364\n",
      " 0.01964496 0.01945479 0.01895205 0.01908928 0.01899386 0.0193381\n",
      " 0.01942538 0.01930331 0.01915514 0.01945544 0.01939662 0.01933734\n",
      " 0.01913367 0.01904163]\n"
     ]
    }
   ],
   "source": [
    "print(alpha)"
   ]
  },
  {
   "cell_type": "code",
   "execution_count": 24,
   "id": "1522e9f3",
   "metadata": {},
   "outputs": [],
   "source": [
    "def topic_prob_extractor(gensim_hdp, t=50, w=25, isSorted=True):\n",
    "    \"\"\"\n",
    "    Input the gensim model to get the rough topics' probabilities\n",
    "    \"\"\"\n",
    "    shown_topics = gensim_hdp.show_topics(num_topics=t, num_words=w ,formatted=False)\n",
    "    topics_nos = [x[0] for x in shown_topics ]\n",
    "    weights = [ sum([item[1] for item in shown_topics[topicN][1]]) for topicN in topics_nos ]\n",
    "    if (isSorted):\n",
    "        return pd.DataFrame({'topic_id' : topics_nos, 'weight' : weights}).sort_values(by = \"weight\", ascending=False);\n",
    "    else:\n",
    "        return pd.DataFrame({'topic_id' : topics_nos, 'weight' : weights});"
   ]
  },
  {
   "cell_type": "code",
   "execution_count": 25,
   "id": "38eede1f",
   "metadata": {},
   "outputs": [],
   "source": [
    "df = topic_prob_extractor(hdp_model)"
   ]
  },
  {
   "cell_type": "code",
   "execution_count": 26,
   "id": "484f8fd0",
   "metadata": {},
   "outputs": [
    {
     "data": {
      "text/html": [
       "<div>\n",
       "<style scoped>\n",
       "    .dataframe tbody tr th:only-of-type {\n",
       "        vertical-align: middle;\n",
       "    }\n",
       "\n",
       "    .dataframe tbody tr th {\n",
       "        vertical-align: top;\n",
       "    }\n",
       "\n",
       "    .dataframe thead th {\n",
       "        text-align: right;\n",
       "    }\n",
       "</style>\n",
       "<table border=\"1\" class=\"dataframe\">\n",
       "  <thead>\n",
       "    <tr style=\"text-align: right;\">\n",
       "      <th></th>\n",
       "      <th>topic_id</th>\n",
       "      <th>weight</th>\n",
       "    </tr>\n",
       "  </thead>\n",
       "  <tbody>\n",
       "    <tr>\n",
       "      <th>0</th>\n",
       "      <td>0</td>\n",
       "      <td>0.076217</td>\n",
       "    </tr>\n",
       "    <tr>\n",
       "      <th>25</th>\n",
       "      <td>25</td>\n",
       "      <td>0.035078</td>\n",
       "    </tr>\n",
       "    <tr>\n",
       "      <th>3</th>\n",
       "      <td>3</td>\n",
       "      <td>0.034992</td>\n",
       "    </tr>\n",
       "    <tr>\n",
       "      <th>9</th>\n",
       "      <td>9</td>\n",
       "      <td>0.034584</td>\n",
       "    </tr>\n",
       "    <tr>\n",
       "      <th>23</th>\n",
       "      <td>23</td>\n",
       "      <td>0.033914</td>\n",
       "    </tr>\n",
       "    <tr>\n",
       "      <th>35</th>\n",
       "      <td>35</td>\n",
       "      <td>0.033584</td>\n",
       "    </tr>\n",
       "    <tr>\n",
       "      <th>41</th>\n",
       "      <td>41</td>\n",
       "      <td>0.033527</td>\n",
       "    </tr>\n",
       "    <tr>\n",
       "      <th>1</th>\n",
       "      <td>1</td>\n",
       "      <td>0.033350</td>\n",
       "    </tr>\n",
       "    <tr>\n",
       "      <th>21</th>\n",
       "      <td>21</td>\n",
       "      <td>0.033306</td>\n",
       "    </tr>\n",
       "    <tr>\n",
       "      <th>5</th>\n",
       "      <td>5</td>\n",
       "      <td>0.033028</td>\n",
       "    </tr>\n",
       "    <tr>\n",
       "      <th>11</th>\n",
       "      <td>11</td>\n",
       "      <td>0.032915</td>\n",
       "    </tr>\n",
       "    <tr>\n",
       "      <th>20</th>\n",
       "      <td>20</td>\n",
       "      <td>0.032892</td>\n",
       "    </tr>\n",
       "    <tr>\n",
       "      <th>4</th>\n",
       "      <td>4</td>\n",
       "      <td>0.032870</td>\n",
       "    </tr>\n",
       "    <tr>\n",
       "      <th>6</th>\n",
       "      <td>6</td>\n",
       "      <td>0.032865</td>\n",
       "    </tr>\n",
       "    <tr>\n",
       "      <th>29</th>\n",
       "      <td>29</td>\n",
       "      <td>0.032618</td>\n",
       "    </tr>\n",
       "    <tr>\n",
       "      <th>33</th>\n",
       "      <td>33</td>\n",
       "      <td>0.032465</td>\n",
       "    </tr>\n",
       "    <tr>\n",
       "      <th>17</th>\n",
       "      <td>17</td>\n",
       "      <td>0.032461</td>\n",
       "    </tr>\n",
       "    <tr>\n",
       "      <th>30</th>\n",
       "      <td>30</td>\n",
       "      <td>0.032454</td>\n",
       "    </tr>\n",
       "    <tr>\n",
       "      <th>31</th>\n",
       "      <td>31</td>\n",
       "      <td>0.032378</td>\n",
       "    </tr>\n",
       "    <tr>\n",
       "      <th>26</th>\n",
       "      <td>26</td>\n",
       "      <td>0.032339</td>\n",
       "    </tr>\n",
       "    <tr>\n",
       "      <th>47</th>\n",
       "      <td>47</td>\n",
       "      <td>0.032338</td>\n",
       "    </tr>\n",
       "    <tr>\n",
       "      <th>22</th>\n",
       "      <td>22</td>\n",
       "      <td>0.032333</td>\n",
       "    </tr>\n",
       "    <tr>\n",
       "      <th>48</th>\n",
       "      <td>48</td>\n",
       "      <td>0.032200</td>\n",
       "    </tr>\n",
       "    <tr>\n",
       "      <th>12</th>\n",
       "      <td>12</td>\n",
       "      <td>0.032066</td>\n",
       "    </tr>\n",
       "    <tr>\n",
       "      <th>10</th>\n",
       "      <td>10</td>\n",
       "      <td>0.032016</td>\n",
       "    </tr>\n",
       "    <tr>\n",
       "      <th>39</th>\n",
       "      <td>39</td>\n",
       "      <td>0.031964</td>\n",
       "    </tr>\n",
       "    <tr>\n",
       "      <th>24</th>\n",
       "      <td>24</td>\n",
       "      <td>0.031958</td>\n",
       "    </tr>\n",
       "    <tr>\n",
       "      <th>44</th>\n",
       "      <td>44</td>\n",
       "      <td>0.031952</td>\n",
       "    </tr>\n",
       "    <tr>\n",
       "      <th>45</th>\n",
       "      <td>45</td>\n",
       "      <td>0.031929</td>\n",
       "    </tr>\n",
       "    <tr>\n",
       "      <th>14</th>\n",
       "      <td>14</td>\n",
       "      <td>0.031881</td>\n",
       "    </tr>\n",
       "    <tr>\n",
       "      <th>27</th>\n",
       "      <td>27</td>\n",
       "      <td>0.031725</td>\n",
       "    </tr>\n",
       "    <tr>\n",
       "      <th>49</th>\n",
       "      <td>49</td>\n",
       "      <td>0.031713</td>\n",
       "    </tr>\n",
       "    <tr>\n",
       "      <th>7</th>\n",
       "      <td>7</td>\n",
       "      <td>0.031627</td>\n",
       "    </tr>\n",
       "    <tr>\n",
       "      <th>42</th>\n",
       "      <td>42</td>\n",
       "      <td>0.031556</td>\n",
       "    </tr>\n",
       "    <tr>\n",
       "      <th>34</th>\n",
       "      <td>34</td>\n",
       "      <td>0.031376</td>\n",
       "    </tr>\n",
       "    <tr>\n",
       "      <th>2</th>\n",
       "      <td>2</td>\n",
       "      <td>0.031132</td>\n",
       "    </tr>\n",
       "    <tr>\n",
       "      <th>13</th>\n",
       "      <td>13</td>\n",
       "      <td>0.031057</td>\n",
       "    </tr>\n",
       "    <tr>\n",
       "      <th>16</th>\n",
       "      <td>16</td>\n",
       "      <td>0.030966</td>\n",
       "    </tr>\n",
       "    <tr>\n",
       "      <th>46</th>\n",
       "      <td>46</td>\n",
       "      <td>0.030958</td>\n",
       "    </tr>\n",
       "    <tr>\n",
       "      <th>19</th>\n",
       "      <td>19</td>\n",
       "      <td>0.030877</td>\n",
       "    </tr>\n",
       "    <tr>\n",
       "      <th>32</th>\n",
       "      <td>32</td>\n",
       "      <td>0.030653</td>\n",
       "    </tr>\n",
       "    <tr>\n",
       "      <th>36</th>\n",
       "      <td>36</td>\n",
       "      <td>0.030575</td>\n",
       "    </tr>\n",
       "    <tr>\n",
       "      <th>37</th>\n",
       "      <td>37</td>\n",
       "      <td>0.030570</td>\n",
       "    </tr>\n",
       "    <tr>\n",
       "      <th>15</th>\n",
       "      <td>15</td>\n",
       "      <td>0.030524</td>\n",
       "    </tr>\n",
       "    <tr>\n",
       "      <th>28</th>\n",
       "      <td>28</td>\n",
       "      <td>0.030475</td>\n",
       "    </tr>\n",
       "    <tr>\n",
       "      <th>18</th>\n",
       "      <td>18</td>\n",
       "      <td>0.030439</td>\n",
       "    </tr>\n",
       "    <tr>\n",
       "      <th>40</th>\n",
       "      <td>40</td>\n",
       "      <td>0.030385</td>\n",
       "    </tr>\n",
       "    <tr>\n",
       "      <th>38</th>\n",
       "      <td>38</td>\n",
       "      <td>0.030327</td>\n",
       "    </tr>\n",
       "    <tr>\n",
       "      <th>43</th>\n",
       "      <td>43</td>\n",
       "      <td>0.030218</td>\n",
       "    </tr>\n",
       "    <tr>\n",
       "      <th>8</th>\n",
       "      <td>8</td>\n",
       "      <td>0.030026</td>\n",
       "    </tr>\n",
       "  </tbody>\n",
       "</table>\n",
       "</div>"
      ],
      "text/plain": [
       "    topic_id    weight\n",
       "0          0  0.076217\n",
       "25        25  0.035078\n",
       "3          3  0.034992\n",
       "9          9  0.034584\n",
       "23        23  0.033914\n",
       "35        35  0.033584\n",
       "41        41  0.033527\n",
       "1          1  0.033350\n",
       "21        21  0.033306\n",
       "5          5  0.033028\n",
       "11        11  0.032915\n",
       "20        20  0.032892\n",
       "4          4  0.032870\n",
       "6          6  0.032865\n",
       "29        29  0.032618\n",
       "33        33  0.032465\n",
       "17        17  0.032461\n",
       "30        30  0.032454\n",
       "31        31  0.032378\n",
       "26        26  0.032339\n",
       "47        47  0.032338\n",
       "22        22  0.032333\n",
       "48        48  0.032200\n",
       "12        12  0.032066\n",
       "10        10  0.032016\n",
       "39        39  0.031964\n",
       "24        24  0.031958\n",
       "44        44  0.031952\n",
       "45        45  0.031929\n",
       "14        14  0.031881\n",
       "27        27  0.031725\n",
       "49        49  0.031713\n",
       "7          7  0.031627\n",
       "42        42  0.031556\n",
       "34        34  0.031376\n",
       "2          2  0.031132\n",
       "13        13  0.031057\n",
       "16        16  0.030966\n",
       "46        46  0.030958\n",
       "19        19  0.030877\n",
       "32        32  0.030653\n",
       "36        36  0.030575\n",
       "37        37  0.030570\n",
       "15        15  0.030524\n",
       "28        28  0.030475\n",
       "18        18  0.030439\n",
       "40        40  0.030385\n",
       "38        38  0.030327\n",
       "43        43  0.030218\n",
       "8          8  0.030026"
      ]
     },
     "execution_count": 26,
     "metadata": {},
     "output_type": "execute_result"
    }
   ],
   "source": [
    "df"
   ]
  },
  {
   "cell_type": "code",
   "execution_count": 27,
   "id": "7cdf5ede",
   "metadata": {},
   "outputs": [
    {
     "data": {
      "text/plain": [
       "1.6456547710504887"
      ]
     },
     "execution_count": 27,
     "metadata": {},
     "output_type": "execute_result"
    }
   ],
   "source": [
    "df['weight'].sum()"
   ]
  },
  {
   "cell_type": "markdown",
   "id": "2519b792",
   "metadata": {},
   "source": [
    "## Tomotopy Model"
   ]
  },
  {
   "cell_type": "code",
   "execution_count": 27,
   "id": "3ea0bf35",
   "metadata": {},
   "outputs": [],
   "source": [
    "import tomotopy as tp\n",
    "from gensim.corpora.dictionary import Dictionary\n",
    "import numpy as np\n",
    "import pandas as pd"
   ]
  },
  {
   "cell_type": "code",
   "execution_count": 2,
   "id": "9b97725b",
   "metadata": {},
   "outputs": [],
   "source": [
    "import pickle\n",
    "with open('bow_model.pkl', 'rb') as f:\n",
    "    bow_model = pickle.load(f)"
   ]
  },
  {
   "cell_type": "code",
   "execution_count": 5,
   "id": "ac2bec8f",
   "metadata": {},
   "outputs": [],
   "source": [
    "id2word = Dictionary.load(\"./models/bow_dict\")"
   ]
  },
  {
   "cell_type": "code",
   "execution_count": 8,
   "id": "ac1984a7",
   "metadata": {},
   "outputs": [
    {
     "name": "stdout",
     "output_type": "stream",
     "text": [
      "0\n",
      "10\n"
     ]
    }
   ],
   "source": [
    "# How to weight each word, one of ONE, PMI or IDF\n",
    "term_weight = tp.TermWeight.PMI\n",
    "# Gamma: Topic table distribution \n",
    "# Document: Document table distribution \n",
    "# initial_k: initial number of topics \n",
    "# can also set min_cf and rm_top as other preprocessing mechanisms\n",
    "# Here, we expect many topics to be shared, but each cell to only use a few topics\n",
    "#hdp = tp.HDPModel(tw=term_weight, gamma=1.7105456431429031,\n",
    "#                  alpha=0.301784472649497, eta=0.005836889595918317, initial_k=30, rm_top=10,seed=1)\n",
    "hdp = tp.HDPModel(tw=term_weight, gamma=1,\n",
    "                  alpha=0.1, eta=0.001, initial_k=20, rm_top=50, seed=999)\n",
    "print(len(hdp.docs))\n",
    "print(hdp.optim_interval)"
   ]
  },
  {
   "cell_type": "code",
   "execution_count": 9,
   "id": "50bf6d1b",
   "metadata": {},
   "outputs": [],
   "source": [
    "for doc in bow_model:\n",
    "    hdp.add_doc(doc)"
   ]
  },
  {
   "cell_type": "code",
   "execution_count": 10,
   "id": "8b31b8fb",
   "metadata": {},
   "outputs": [
    {
     "name": "stdout",
     "output_type": "stream",
     "text": [
      "96303\n",
      "0.10000000149011612\n",
      "1.0\n",
      "10\n"
     ]
    }
   ],
   "source": [
    "print(len(hdp.docs))\n",
    "print(hdp.alpha)\n",
    "print(hdp.gamma)\n",
    "print(hdp.optim_interval)"
   ]
  },
  {
   "cell_type": "code",
   "execution_count": 11,
   "id": "b628907a",
   "metadata": {},
   "outputs": [],
   "source": [
    "def train_HDPmodel(hdp, mcmc_iter, burn_in=5000, quiet=False):\n",
    "    '''Wrapper function to train tomotopy HDP Model object\n",
    "    \n",
    "    *** Inputs**\n",
    "    hdp: obj -> initialized HDPModel model with added documents\n",
    "    mcmc_iter : int -> number of iterations to train the model\n",
    "    burn_in: int -> MC burn in iterations\n",
    "    quiet: bool -> flag whether to print iteration LL and Topics, if True nothing prints out\n",
    "    \n",
    "    ** Returns**\n",
    "    hdp: trained HDP Model \n",
    "    '''\n",
    "\n",
    "    # Initiate MCMC burn-in \n",
    "    hdp.burn_in = burn_in\n",
    "    hdp.train(0)\n",
    "    print('Num docs:', len(hdp.docs), ', Vocab size:', hdp.num_vocabs, ', Num words:', hdp.num_words)\n",
    "    print('Removed top words:', hdp.removed_top_words)\n",
    "    print('Training...') #file=sys.stderr, flush=True)\n",
    "\n",
    "    # Train model\n",
    "    step=round(mcmc_iter*0.05)\n",
    "    for i in range(0, mcmc_iter, step):\n",
    "        hdp.train(step)\n",
    "        if not quiet:\n",
    "            print('Iteration: {}\\tLog-likelihood: {}\\tNum. of topics: {}'.format(i, hdp.ll_per_word, hdp.live_k))\n",
    "        \n",
    "    print(\"Done\\n\")  \n",
    "    \n",
    "    return hdp"
   ]
  },
  {
   "cell_type": "code",
   "execution_count": 12,
   "id": "f2750df0",
   "metadata": {},
   "outputs": [],
   "source": [
    "def get_hdp_topics(hdp, top_n=100):\n",
    "    '''Wrapper function to extract topics from trained tomotopy HDP model \n",
    "    \n",
    "    ** Inputs **\n",
    "    hdp:obj -> HDPModel trained model\n",
    "    top_n: int -> top n words in topic based on frequencies\n",
    "    \n",
    "    ** Returns **\n",
    "    topics: dict -> per topic, an arrays with top words and associated frequencies \n",
    "    '''\n",
    "    \n",
    "    # Get most important topics by # of times they were assigned (i.e. counts)\n",
    "    sorted_topics = [k for k, v in sorted(enumerate(hdp.get_count_by_topics()), key=lambda x:x[1], reverse=True)]\n",
    "\n",
    "    topics=dict()\n",
    "    \n",
    "    # For topics found, extract only those that are still assigned\n",
    "    for k in sorted_topics:\n",
    "        if not hdp.is_live_topic(k): continue # remove un-assigned topics at the end (i.e. not alive)\n",
    "        topic_wp =[]\n",
    "        for word, prob in hdp.get_topic_words(k, top_n=top_n):\n",
    "            topic_wp.append((word, prob))\n",
    "\n",
    "        topics[k] = topic_wp # store topic word/frequency array\n",
    "        \n",
    "    return topics"
   ]
  },
  {
   "cell_type": "code",
   "execution_count": 13,
   "id": "f94d99ea",
   "metadata": {},
   "outputs": [
    {
     "name": "stdout",
     "output_type": "stream",
     "text": [
      "Num docs: 96303 , Vocab size: 4393 , Num words: 64274769\n",
      "Removed top words: ['SFTPC', 'APOE', 'C1QB', 'C1QA', 'CD52', 'ATP1B3', 'FABP4', 'LINC-PINT', 'MTATP6P1', 'ZEB2', 'CRIP1', 'HLA-DPB1', 'MSR1', 'MT-RNR1', 'GLUL', 'C1QC', 'MTND1P23', 'S100A9', 'PLXDC2', 'HLA-DPA1', 'FOS', 'ZNF331', 'S100A8', 'NAMPT', 'TFRC', 'SIPA1L1', 'JARID2', 'ANXA1', 'ELL2', 'LSAMP', 'SLC16A10', 'CCL18', 'KYNU', 'DOCK4', 'TXNIP', 'ENSG00000240040', 'CXCL3', 'ENSG00000234287', 'SAMSN1', 'HSP90AA1', 'SOD2', 'PLAUR', 'MTCO2P12', 'ACSL1', 'FKBP5', 'NFKBIA', 'CXCL2', 'CXCL8', 'HIF1A', 'SFTPB']\n",
      "Training...\n",
      "Iteration: 0\tLog-likelihood: -14.080279048756406\tNum. of topics: 26\n",
      "Iteration: 75\tLog-likelihood: -14.025520460243762\tNum. of topics: 25\n",
      "Iteration: 150\tLog-likelihood: -13.99608806024131\tNum. of topics: 25\n",
      "Iteration: 225\tLog-likelihood: -13.980285799523205\tNum. of topics: 26\n",
      "Iteration: 300\tLog-likelihood: -13.966534744205882\tNum. of topics: 25\n",
      "Iteration: 375\tLog-likelihood: -13.954294163637984\tNum. of topics: 25\n",
      "Iteration: 450\tLog-likelihood: -13.948323613427478\tNum. of topics: 25\n",
      "Iteration: 525\tLog-likelihood: -13.944928229957572\tNum. of topics: 26\n",
      "Iteration: 600\tLog-likelihood: -13.940558856191043\tNum. of topics: 25\n",
      "Iteration: 675\tLog-likelihood: -13.93870197000104\tNum. of topics: 25\n",
      "Iteration: 750\tLog-likelihood: -13.93406029372879\tNum. of topics: 26\n",
      "Iteration: 825\tLog-likelihood: -13.931056315471281\tNum. of topics: 25\n",
      "Iteration: 900\tLog-likelihood: -13.926311768133832\tNum. of topics: 25\n",
      "Iteration: 975\tLog-likelihood: -13.92156248146784\tNum. of topics: 25\n",
      "Iteration: 1050\tLog-likelihood: -13.915052370234829\tNum. of topics: 26\n",
      "Iteration: 1125\tLog-likelihood: -13.908117770971227\tNum. of topics: 28\n",
      "Iteration: 1200\tLog-likelihood: -13.901384245919997\tNum. of topics: 28\n",
      "Iteration: 1275\tLog-likelihood: -13.897275119151745\tNum. of topics: 27\n",
      "Iteration: 1350\tLog-likelihood: -13.896107730124056\tNum. of topics: 26\n",
      "Iteration: 1425\tLog-likelihood: -13.896906483970437\tNum. of topics: 26\n",
      "Done\n",
      "\n"
     ]
    },
    {
     "data": {
      "text/plain": [
       "<tomotopy.HDPModel at 0x7f3e492890b0>"
      ]
     },
     "execution_count": 13,
     "metadata": {},
     "output_type": "execute_result"
    }
   ],
   "source": [
    "train_HDPmodel(hdp, 1500)"
   ]
  },
  {
   "cell_type": "code",
   "execution_count": 14,
   "id": "2c6706f6",
   "metadata": {},
   "outputs": [
    {
     "name": "stdout",
     "output_type": "stream",
     "text": [
      "Hey\n"
     ]
    }
   ],
   "source": [
    "print(\"Hey\")"
   ]
  },
  {
   "cell_type": "code",
   "execution_count": 15,
   "id": "7596a17e",
   "metadata": {},
   "outputs": [],
   "source": [
    "hdp.save('./models/hdp_tomotopy_rm50.bin')"
   ]
  },
  {
   "cell_type": "code",
   "execution_count": 16,
   "id": "3951715a",
   "metadata": {},
   "outputs": [],
   "source": [
    "hdp = tp.HDPModel.load(\"./models/hdp_tomotopy_rm50.bin\")"
   ]
  },
  {
   "cell_type": "code",
   "execution_count": 19,
   "id": "9716c83e",
   "metadata": {},
   "outputs": [
    {
     "name": "stdout",
     "output_type": "stream",
     "text": [
      "0\n",
      "1\n",
      "2\n",
      "3\n",
      "4\n",
      "5\n",
      "6\n",
      "7\n",
      "8\n",
      "9\n",
      "10\n",
      "11\n",
      "12\n",
      "13\n",
      "14\n",
      "15\n",
      "16\n",
      "17\n",
      "18\n",
      "19\n",
      "20\n",
      "21\n",
      "22\n",
      "23\n",
      "24\n",
      "25\n"
     ]
    }
   ],
   "source": [
    "for i in range(hdp.k):\n",
    "    if hdp.is_live_topic(i):\n",
    "        print(i)"
   ]
  },
  {
   "cell_type": "code",
   "execution_count": 17,
   "id": "123a0ce7",
   "metadata": {},
   "outputs": [],
   "source": [
    "topic = get_hdp_topics(hdp,top_n=100)"
   ]
  },
  {
   "cell_type": "code",
   "execution_count": 18,
   "id": "2960cd02",
   "metadata": {},
   "outputs": [
    {
     "name": "stdout",
     "output_type": "stream",
     "text": [
      "{10: [('THBS1', 0.008572147227823734), ('AREG', 0.007692504208534956), ('EREG', 0.007135380059480667), ('GK', 0.005880448035895824), ('CTSL', 0.005113017745316029), ('TIMP1', 0.005008576903492212), ('ABCA1', 0.004973582923412323), ('IL1R2', 0.004892590921372175), ('VCAN', 0.0048835487104952335), ('CCL20', 0.00477892579510808), ('SPP1', 0.0047168550081551075), ('GAB2', 0.0043949526734650135), ('PELI1', 0.004379613324999809), ('IL1B', 0.004338047467172146), ('MTCO1P40', 0.004266022238880396), ('PID1', 0.004252561833709478), ('HMOX1', 0.004204025957733393), ('FNDC3A', 0.004166613798588514), ('ENSG00000279483', 0.004151745233684778), ('RNASE1', 0.003974280785769224), ('CCL2', 0.003864044090732932), ('ATP2B1', 0.0038297546561807394), ('FMN1', 0.0037694962229579687), ('NFKB1', 0.0037467917427420616), ('RNF144B', 0.0037209901493042707), ('G0S2', 0.003663129871711135), ('SLC2A3', 0.00365642667748034), ('SNX9', 0.0034394862595945597), ('ITGAX', 0.0034045164939016104), ('CMSS1', 0.003366936929523945), ('ZFP36', 0.0033499852288514376), ('CHST11', 0.0033352563623338938), ('HSPA1A', 0.0030879899859428406), ('CD14', 0.0030676345340907574), ('TEX14', 0.002991196932271123), ('MAMLD1', 0.002983096521347761), ('S100A12', 0.002981314668431878), ('TNFAIP3', 0.002961312420666218), ('CRADD', 0.0029356973245739937), ('TPST1', 0.0029246541671454906), ('IFITM10', 0.0029142017010599375), ('C15orf48', 0.0029048309661448), ('RANBP2', 0.002898197155445814), ('PFKFB3', 0.0028799534775316715), ('RGS1', 0.0028795835096389055), ('SDC2', 0.002853997517377138), ('PTPRJ', 0.0027796472422778606), ('PAPSS2', 0.002774622989818454), ('MMP19', 0.002766689285635948), ('NLRP3', 0.0027612040285021067), ('MT1X', 0.002704239683225751), ('RGS2', 0.00259555340744555), ('FGD4', 0.002546980744227767), ('SYAP1', 0.002510551828891039), ('MTSS1', 0.0024532200768589973), ('MAP4K4', 0.0024000019766390324), ('PTPN1', 0.0023600549902766943), ('SDS', 0.0023558365646749735), ('CD109', 0.002339288592338562), ('DNMBP', 0.0023135014344006777), ('RETN', 0.0021621165797114372), ('SLC44A1', 0.002144447062164545), ('INSIG1', 0.002142006531357765), ('HSPA1B', 0.0020549625623971224), ('LGMN', 0.0019878067541867495), ('FCN1', 0.0019726997707039118), ('EEPD1', 0.0019488768884912133), ('XYLT1', 0.0019064220832660794), ('SLC25A37', 0.0019015567377209663), ('IFI6', 0.0018865768797695637), ('IRAK2', 0.0018794212955981493), ('PRKCB', 0.0018749927403405309), ('ACSL4', 0.0018700625514611602), ('FNBP1', 0.0018647435354068875), ('ENSG00000276085', 0.0018531054956838489), ('PITPNC1', 0.001840924727730453), ('TTTY14', 0.0018401708221063018), ('FOXK2', 0.001838485011830926), ('SERPINB9', 0.0018096902640536427), ('EIF2AK3', 0.0017705656355246902), ('ADGRE2', 0.0017647965578362346), ('SERPINB2', 0.0017610919894650578), ('CCL4L2', 0.001752936514094472), ('ID2', 0.0017409789143130183), ('CCL4', 0.0017333192517980933), ('WARS', 0.0017299347091466188), ('CXCR4', 0.0017198108835145831), ('MCTP1', 0.0017134576337412), ('BCAT1', 0.0016890729311853647), ('EMP1', 0.0016686025774106383), ('SLC1A3', 0.0016547433333471417), ('IFITM3', 0.001652827369980514), ('MCF2L2', 0.0016482447972521186), ('CD300E', 0.0016456209123134613), ('SRGAP1', 0.0016309393104165792), ('SSBP2', 0.0016298176487907767), ('GPAT3', 0.0016276955138891935), ('IFITM2', 0.0016218839446082711), ('SMAP2', 0.0015886066248640418), ('LINC00513', 0.0015884196618571877)], 6: [('IFI27', 0.013575669378042221), ('FN1', 0.011592492461204529), ('PPARG', 0.007977817207574844), ('NUPR1', 0.007968653924763203), ('ATP10A', 0.007686988450586796), ('MCF2L2', 0.0066829160787165165), ('IFI6', 0.006186411250382662), ('ENSG00000239268', 0.005615889560431242), ('PSME4', 0.005593908950686455), ('FMNL2', 0.005590592510998249), ('INHBA', 0.0054560150019824505), ('SERPING1', 0.005428963340818882), ('SLC27A4', 0.00527144456282258), ('MTND4P12', 0.004874757956713438), ('APOC4-APOC2', 0.004743431229144335), ('SCD', 0.004381114616990089), ('HMOX1', 0.004222540650516748), ('PDK4', 0.004096020478755236), ('RND3', 0.00406482070684433), ('MACC1', 0.0039590890519320965), ('DST', 0.0038395787123590708), ('SIK2', 0.0037437467835843563), ('GLDN', 0.003674522740766406), ('IFITM10', 0.0034494572319090366), ('CES1P1', 0.003404967486858368), ('JUN', 0.003310656640678644), ('LYZ', 0.003190211718901992), ('CTSL', 0.003055623732507229), ('FGD4', 0.0030214302241802216), ('CD36', 0.0028499248437583447), ('TPRG1', 0.0028435552958399057), ('KLHL29', 0.0028310194611549377), ('MME', 0.0028229306917637587), ('CFD', 0.002728618448600173), ('RGCC', 0.002664331579580903), ('SARNP', 0.0026433931197971106), ('ATP2B1', 0.002636708552017808), ('MMP19', 0.0025742582511156797), ('RETN', 0.002550691831856966), ('C6orf48', 0.002515888772904873), ('HSPA1A', 0.0024965826887637377), ('FOXO1', 0.0023927201982587576), ('TTC39B', 0.002390960929915309), ('FLVCR2', 0.002382485428825021), ('ITGB8', 0.0023755133152008057), ('HPGD', 0.002316543599590659), ('PSD3', 0.002315651625394821), ('TEX14', 0.0023135794326663017), ('ISG15', 0.0022038130555301905), ('CXCL5', 0.0022001457400619984), ('ENSG00000243004', 0.0021998577285557985), ('GSN', 0.0021405855659395456), ('LINC02154', 0.0020868638530373573), ('HLA-DQA2', 0.0020814044401049614), ('ENSG00000237356', 0.002081011887639761), ('TRHDE', 0.002006493043154478), ('MT-TQ', 0.001962498063221574), ('CCL20', 0.0019535881001502275), ('SQSTM1', 0.0019465653458610177), ('MOGAT1', 0.0019351743394508958), ('KMO', 0.001929157879203558), ('ANKRD28', 0.0019207866862416267), ('TATDN1', 0.001850687898695469), ('GBE1', 0.0018289866857230663), ('CAMK1D', 0.0018191100098192692), ('PRKCH', 0.0018174388678744435), ('HSPA1B', 0.0018128943629562855), ('PCED1B', 0.0018050484359264374), ('LINC00278', 0.0017998716793954372), ('SLC1A3', 0.001794367446564138), ('FABP3', 0.0017650095978751779), ('PELI1', 0.0017429371364414692), ('PECAM1', 0.0017357324250042439), ('MGST1', 0.0017355724703520536), ('PKP2', 0.0017321123741567135), ('GPX3', 0.001720043015666306), ('AKR1C2', 0.0017026927089318633), ('MDM2', 0.0016916039166972041), ('P4HA1', 0.0016516530886292458), ('PLPP3', 0.0016129791038110852), ('HSPH1', 0.001611839747056365), ('SEMA3C', 0.0016005061333999038), ('ABCA1', 0.0015904407482594252), ('TTTY14', 0.001581581891514361), ('TMEM150B', 0.0015678796917200089), ('TBC1D9', 0.001553339883685112), ('GK', 0.0015404626028612256), ('CCDC200', 0.001528236665762961), ('GAB2', 0.0015177399618551135), ('TFDP2', 0.0015016584657132626), ('MIS18BP1', 0.0014986357418820262), ('AKR1C1', 0.0014982303837314248), ('ENSG00000263718', 0.001486951019614935), ('ACOT7', 0.0014773549046367407), ('PDE3B', 0.0014660711167380214), ('HSPD1', 0.0014523591380566359), ('CERS6', 0.0014350326964631677), ('PTPRJ', 0.0014314728323370218), ('HSPB1P1', 0.0014291494153439999), ('SGMS2', 0.0014140233397483826)], 0: [('CCL4', 0.01624162122607231), ('CNOT6L', 0.011055885814130306), ('CD69', 0.009393875487148762), ('SYTL3', 0.008832335472106934), ('GNLY', 0.008474876172840595), ('CCL5', 0.006807341706007719), ('FYN', 0.006555954925715923), ('GNG2', 0.006128873210400343), ('CEMIP2', 0.006079893093556166), ('NKG7', 0.00520513579249382), ('CD247', 0.005181779619306326), ('PPP1R16B', 0.005135514307767153), ('RNF19A', 0.00489896209910512), ('CDC42SE2', 0.00487675191834569), ('CXCR4', 0.004876025021076202), ('ITK', 0.004839092027395964), ('CRYBG1', 0.004824618808925152), ('PPP2R5C', 0.004743501543998718), ('PARP8', 0.004615299869328737), ('DENND4A', 0.0044440473429858685), ('CBLB', 0.004224035423249006), ('GZMB', 0.004103250335901976), ('PITPNC1', 0.004098930396139622), ('IL32', 0.00406176783144474), ('FAM129A', 0.004029781557619572), ('LINC00513', 0.004025219473987818), ('PBX4', 0.003930344246327877), ('IFITM2', 0.003863837569952011), ('FOXO1', 0.0036019631661474705), ('STAT4', 0.0035612997598946095), ('KLRD1', 0.0035283949691802263), ('RHOH', 0.0034167435951530933), ('ADGRE5', 0.003374283667653799), ('RGS1', 0.0032934073824435472), ('KLRB1', 0.0032835134770721197), ('SKAP1', 0.003271783934906125), ('TSC22D3', 0.003232869552448392), ('RUNX3', 0.0031929754186421633), ('TOB1', 0.003185898531228304), ('ZFP36L2', 0.003146933391690254), ('SMAP2', 0.0030832139309495687), ('CCL4L2', 0.003022504970431328), ('RORA-AS1', 0.00297115882858634), ('ZC3HAV1', 0.0029223712626844645), ('PRKCH', 0.0029193314258009195), ('AOAH', 0.0029053627513349056), ('FNBP1', 0.002902222564443946), ('ARHGAP15', 0.0028590774163603783), ('SMCHD1', 0.002817691070958972), ('RNF125', 0.002796074841171503), ('DUSP2', 0.0027642238419502974), ('ANKRD28', 0.002754681743681431), ('ENSG00000273319', 0.002672809176146984), ('PRF1', 0.0026420156937092543), ('IQGAP2', 0.002550010569393635), ('YES1', 0.002532215556129813), ('MCTP2', 0.0024622667115181684), ('CLEC2D', 0.0024602168705314398), ('CARD11', 0.0024549057707190514), ('KLRC4-KLRK1', 0.0024275826290249825), ('BCL11B', 0.0023907236754894257), ('CD96', 0.0023419316858053207), ('IL12RB2', 0.0023302414920181036), ('STK4', 0.0023156714159995317), ('SYNE2', 0.0022889715619385242), ('CD7', 0.0022886793594807386), ('CD3D', 0.002273466205224395), ('ENSG00000270240', 0.002270408207550645), ('ENSG00000276085', 0.0022296758834272623), ('CCND3', 0.002221090020611882), ('INPP4B', 0.0021633014548569918), ('CDK17', 0.0021341994870454073), ('GZMA', 0.0021081049926579), ('ID2', 0.002083469182252884), ('PRKX', 0.002075403230264783), ('CAMK4', 0.00203088391572237), ('CST7', 0.0020155489910393953), ('LINC01871', 0.001986633986234665), ('CDC14A', 0.0019631299655884504), ('BATF', 0.0019628664012998343), ('RBPJ', 0.0019622265826910734), ('ISG20', 0.0019497009925544262), ('AKNA', 0.0019259356195107102), ('TNFAIP3', 0.0019156754715368152), ('SLFN12L', 0.00189295900054276), ('XCL2', 0.0018907535122707486), ('TGFB1', 0.0018785581924021244), ('CHST11', 0.0018701646476984024), ('CD2', 0.0018514477415010333), ('SLC38A1', 0.0018466488691046834), ('JUN', 0.0018455068347975612), ('ABCC1', 0.001842802157625556), ('AREG', 0.001813444308936596), ('THEMIS', 0.0018073362298309803), ('CAMK1D', 0.0017924027051776648), ('TRERF1', 0.0017608576454222202), ('ADAM19', 0.0017608460038900375), ('ZEB1', 0.0017556726234033704), ('ETS1', 0.0017491276375949383), ('CCSER2', 0.0017387891421094537)], 3: [('SFTPA1', 0.07856355607509613), ('SFTPA2', 0.06973424553871155), ('SLPI', 0.05493509769439697), ('NAPSA', 0.016463402658700943), ('MACROD2', 0.015517299994826317), ('SFTA2', 0.012659680098295212), ('SFTPD', 0.01224830374121666), ('PDE4D', 0.009661072865128517), ('NEDD4L', 0.008371919393539429), ('PGC', 0.008066181093454361), ('ZNF385B', 0.008005532436072826), ('SLC34A2', 0.007950923405587673), ('SCGB3A2', 0.006294783670455217), ('CMAHP', 0.006259983405470848), ('DLG2', 0.005990206729620695), ('TACC2', 0.005289163906127214), ('ABCA3', 0.005055415444076061), ('ANK3', 0.004975304007530212), ('SGPP2', 0.00484688812866807), ('USP54', 0.004836570471525192), ('HOPX', 0.004411432426422834), ('CNKSR3', 0.004302564542740583), ('PEBP4', 0.004235345870256424), ('SYNE1', 0.004212948027998209), ('TCIM', 0.0041803158819675446), ('AUTS2', 0.004156151320785284), ('MECOM', 0.004091833718121052), ('AFF3', 0.004056774545460939), ('LAMP3', 0.003997976426035166), ('ENSG00000273088', 0.0038882973603904247), ('CDH1', 0.003828367218375206), ('CXCL17', 0.003704547416418791), ('SGMS2', 0.0036978807765990496), ('PIGR', 0.003610835410654545), ('ACOXL', 0.003561347955837846), ('ELF3', 0.003527742810547352), ('MT1E', 0.003376489970833063), ('ERBB4', 0.0032064144033938646), ('AGR3', 0.003158875973895192), ('AGBL1', 0.0031080758199095726), ('PARD3', 0.003082892159000039), ('ENSG00000257520', 0.003073149360716343), ('CYP2B7P', 0.0029989113099873066), ('WIF1', 0.0029430300928652287), ('PARD6B', 0.0028617207426577806), ('PTPRG', 0.0027926056645810604), ('SHROOM3', 0.002752758329734206), ('SNX25', 0.002749810926616192), ('S100A14', 0.002612878568470478), ('JUN', 0.0025526119861751795), ('DLC1', 0.002546492964029312), ('MAST4', 0.0025147239211946726), ('SDC4', 0.00250101531855762), ('EGR1', 0.002497949870303273), ('AK1', 0.0024032248184084892), ('WWC1', 0.002392285270616412), ('ALPL', 0.0023401076905429363), ('IER2', 0.002279989654198289), ('ENSG00000266978', 0.0022653602063655853), ('CADM1', 0.0022343043237924576), ('TM4SF1', 0.002216812688857317), ('HHIP', 0.002203600713983178), ('RBPMS', 0.00220305984839797), ('GPRC5A', 0.0022024353966116905), ('ROS1', 0.002178027993068099), ('LIMCH1', 0.002175868023186922), ('MGST1', 0.002162843942642212), ('GKN2', 0.002115674549713731), ('TMEM163', 0.002109418623149395), ('TEAD1', 0.0020960154943168163), ('NEBL', 0.0020377514883875847), ('C16orf89', 0.0020313903223723173), ('MTUS1', 0.002018778817728162), ('ARFGEF3', 0.0019997484050691128), ('RASEF', 0.001981469802558422), ('ITGB6', 0.0019482075003907084), ('P3H2', 0.0019276688108220696), ('LMO7', 0.0018830280750989914), ('MALL', 0.0018307300051674247), ('MYO1B', 0.001823349273763597), ('PTPRK', 0.0018151578260585666), ('SCGB3A1', 0.0018116259016096592), ('MAGI1', 0.0018033897504210472), ('ENSG00000249364', 0.001798728364519775), ('LDLR', 0.0017839227803051472), ('FAM160A1', 0.0017804369563236833), ('CLDN18', 0.0017352356808260083), ('LURAP1L-AS1', 0.0017280770698562264), ('SEMA4A', 0.0017100332770496607), ('PLA2G1B', 0.0017014389159157872), ('MICAL2', 0.0016879154136404395), ('ENSG00000236039', 0.0016780459554865956), ('IL1R1', 0.0016390391392633319), ('CHI3L2', 0.001638368470594287), ('F3', 0.0016369171207770705), ('LRRK2', 0.0016301278956234455), ('SELENBP1', 0.0016247089952230453), ('RNASE1', 0.001592666027136147), ('CLDN4', 0.0015762863913550973), ('PPP1R14C', 0.0015711418818682432)], 16: [('SAA1', 0.014898624271154404), ('CAPS', 0.011314037255942822), ('DNAH12', 0.010837920010089874), ('CFAP299', 0.009704560041427612), ('TPPP3', 0.00940678920596838), ('SAA2-SAA4', 0.009073042310774326), ('AGBL4', 0.008103137835860252), ('RP1', 0.007606116589158773), ('HYDIN', 0.007167886011302471), ('DNAH9', 0.006393046583980322), ('RSPH1', 0.006263981573283672), ('C9orf24', 0.006252812687307596), ('C20orf85', 0.005382932256907225), ('LCN2', 0.0053530591540038586), ('LRRIQ1', 0.0052963364869356155), ('TMEM232', 0.005294015631079674), ('STK33', 0.005124005954712629), ('FAM183A', 0.005104773212224245), ('C1orf194', 0.0050286902114748955), ('TSPAN1', 0.004951228387653828), ('CDHR3', 0.004853361751884222), ('SPAG16', 0.004818906541913748), ('PTPRT', 0.004653037525713444), ('DNAH7', 0.004586180206388235), ('DNAH11', 0.0045112562365829945), ('MAPK10', 0.004380360711365938), ('NEK10', 0.0043404861353337765), ('RFX3', 0.004315219819545746), ('AQP4-AS1', 0.004300963599234819), ('CFAP54', 0.004195366986095905), ('DNAH5', 0.004191495478153229), ('PACRG', 0.004015284590423107), ('CFAP43', 0.003952404018491507), ('DNAH3', 0.003888217033818364), ('DCDC1', 0.003804225940257311), ('TMC5', 0.0037715150974690914), ('MS4A8', 0.003686849493533373), ('AGR3', 0.003476956160739064), ('HYDIN2', 0.00342293968424201), ('WFDC2', 0.0033024735748767853), ('SPAG17', 0.003244033781811595), ('CETN2', 0.003108059288933873), ('SNTN', 0.0030941246077418327), ('DNAH6', 0.003084322437644005), ('FGF14', 0.0030175091233104467), ('RNLS', 0.0029753977432847023), ('ANKFN1', 0.0029716745484620333), ('CFAP47', 0.002912412630394101), ('FTO', 0.002850443124771118), ('OMG', 0.0028130842838436365), ('SLPI', 0.0027903339359909296), ('ANK3', 0.0027867131866514683), ('PIFO', 0.002758168149739504), ('LMNTD1', 0.002745839999988675), ('ARMC3', 0.0027337411884218454), ('TTC29', 0.002684982493519783), ('ENSG00000283674', 0.0026740883477032185), ('GNA14', 0.0026096368674188852), ('ULK4', 0.0026026347186416388), ('C8orf34', 0.0025496776215732098), ('ESRRG', 0.002547775162383914), ('SDK1', 0.0025351073127239943), ('ABCA13', 0.002477928763255477), ('FXYD3', 0.0024718409404158592), ('SMIM22', 0.002464665798470378), ('GSTA1', 0.0024388518650084734), ('C9orf116', 0.0024110665544867516), ('ERICH3', 0.0023874647449702024), ('SPATA17', 0.0023807911202311516), ('ENSG00000259925', 0.002363653853535652), ('SHANK2', 0.00235173013061285), ('WDR49', 0.0023183890152722597), ('DYNC2H1', 0.002312903758138418), ('FANK1', 0.002312023425474763), ('DNAAF1', 0.0023052054457366467), ('C5orf49', 0.0022764948662370443), ('MORN2', 0.0022434950806200504), ('PIGR', 0.0022084657102823257), ('CD24', 0.0021815444342792034), ('DNAI2', 0.002153285313397646), ('DTHD1', 0.0021300220396369696), ('ELF3', 0.002124203136190772), ('DNAI1', 0.0021107529755681753), ('ZBBX', 0.0021015391685068607), ('TMEM190', 0.002077713143080473), ('ECT2L', 0.0020666171330958605), ('C11orf88', 0.002043306827545166), ('ARMC4', 0.0020034711342304945), ('TSPAN19', 0.0019963972736150026), ('DYNLRB2', 0.0019625599961727858), ('SAXO2', 0.00195012625772506), ('VWA3B', 0.0019426938379183412), ('PLEKHA5', 0.001911513158120215), ('VWA3A', 0.001908408012241125), ('ADGB', 0.0018784083658829331), ('PDE4D', 0.0018710504518821836), ('KCNMB2', 0.001863808836787939), ('CAPSL', 0.0018502691527828574), ('MAGI1', 0.0018479771679267287), ('SYNE1', 0.0018397098174318671)], 11: [('MACROD2', 0.011384126730263233), ('SCGB3A2', 0.010705697350203991), ('NEDD4L', 0.008603462018072605), ('GPRC5A', 0.007451069075614214), ('ZNF385B', 0.0073611438274383545), ('POLDIP3', 0.007359537295997143), ('TACC2', 0.006932748015969992), ('SLPI', 0.006637961138039827), ('KRT19', 0.005956926383078098), ('KRT7', 0.0058349124155938625), ('PDE4D', 0.00548216886818409), ('CMAHP', 0.004926370456814766), ('USP54', 0.0046503497287631035), ('PARD3', 0.0046132891438901424), ('MECOM', 0.004504503216594458), ('CDH1', 0.004385160282254219), ('KRT18', 0.004253197927027941), ('ELF3', 0.004060385748744011), ('ANK3', 0.003904942888766527), ('SFN', 0.0038693181704729795), ('MAGI1', 0.003711837576702237), ('CYP2B7P', 0.003684461349621415), ('NEBL', 0.0036663650535047054), ('S100A2', 0.0035984839778393507), ('AUTS2', 0.0035942040849477053), ('SGPP2', 0.0035074977204203606), ('DLG2', 0.003327520564198494), ('KRT8', 0.003316242014989257), ('LMO7', 0.0032700735609978437), ('LINC00511', 0.003133638296276331), ('SFTPA2', 0.003048561280593276), ('SHROOM3', 0.003042884636670351), ('MAST4', 0.0029905871488153934), ('SGMS2', 0.002948195906355977), ('LIMCH1', 0.0028568231500685215), ('ENSG00000273088', 0.002844923408702016), ('F3', 0.0027613919228315353), ('ACOXL', 0.002752740867435932), ('SFTPA1', 0.0027435331139713526), ('ERBB4', 0.0027171908877789974), ('HOPX', 0.0026816180907189846), ('KRT17', 0.002681288169696927), ('DSTN', 0.002646844834089279), ('PTPRG', 0.0025936500169336796), ('MT1E', 0.002585719572380185), ('AFF3', 0.0025600765366107225), ('ERRFI1', 0.002539960900321603), ('MGST1', 0.0025237342342734337), ('LDLR', 0.002510235644876957), ('GPC5', 0.0024710700381547213), ('RBPMS', 0.002438764786347747), ('SLC6A14', 0.0023976992815732956), ('SCGB1A1', 0.002388638211414218), ('SCGB3A1', 0.0023412357550114393), ('ABCA3', 0.002326832851395011), ('ATP13A4', 0.00230451300740242), ('SNX25', 0.00227406551130116), ('ENSG00000267748', 0.002258277265354991), ('ENSG00000266978', 0.002198423957452178), ('PRKG1', 0.0021903803572058678), ('SYNE1', 0.0021696598269045353), ('SLC34A2', 0.002137626986950636), ('MTUS1', 0.002120735589414835), ('MAGI3', 0.00211290642619133), ('PARD6B', 0.002105389256030321), ('EMP2', 0.0021023177541792393), ('MYO1B', 0.002087052445858717), ('AGR2', 0.0020777243189513683), ('WWTR1', 0.002068903064355254), ('FAM160A1', 0.00206311815418303), ('SOX4', 0.002061720471829176), ('CADM1', 0.00205471133813262), ('GLS', 0.0020448826253414154), ('DEFB4A', 0.002041751518845558), ('PTPRK', 0.0020412802696228027), ('KIAA1217', 0.0020273257978260517), ('AGR3', 0.0019520652713254094), ('ITPKC', 0.0019391134846955538), ('TFCP2L1', 0.0019356757402420044), ('TACSTD2', 0.0019285241141915321), ('PATJ', 0.0019123069941997528), ('S100A14', 0.0018944826442748308), ('ATP2B4', 0.001885926933027804), ('WFDC2', 0.0018787956796586514), ('GCNT2', 0.0018617369933053851), ('ENSG00000261553', 0.0018457575934007764), ('EFNA5', 0.0018380978144705296), ('YAP1', 0.00182251981459558), ('WWC1', 0.001819436438381672), ('CNKSR3', 0.0018189831171184778), ('TM4SF1', 0.001799914287403226), ('SDC4', 0.001781965489499271), ('ENSG00000247925', 0.0017780280904844403), ('NAPSA', 0.001776033779606223), ('PEG10', 0.0017570065101608634), ('IL1R1', 0.0017423235112801194), ('TEX14', 0.0017407909035682678), ('CYP4Z2P', 0.0017232447862625122), ('LRRK2', 0.001715487684123218), ('GDF15', 0.0016937071923166513)], 14: [('DCN', 0.03651107847690582), ('CFD', 0.022211497649550438), ('MGP', 0.020855877548456192), ('PLA2G2A', 0.01851835288107395), ('TIMP1', 0.018298929557204247), ('CCDC80', 0.016368065029382706), ('IGFBP6', 0.014991839416325092), ('FBLN1', 0.013601772487163544), ('MT1X', 0.011306758970022202), ('CRISPLD2', 0.011110993102192879), ('APOD', 0.009606381878256798), ('LAMA2', 0.0093468576669693), ('COL1A2', 0.008066684938967228), ('IGFBP7', 0.008018224500119686), ('CLU', 0.007624942343682051), ('LUM', 0.0072686984203755856), ('GPX3', 0.007121619302779436), ('COL3A1', 0.006773781962692738), ('ADH1B', 0.00643202755600214), ('C3', 0.006366212852299213), ('C1R', 0.006058757193386555), ('COL1A1', 0.005984120070934296), ('MT1M', 0.005627172999083996), ('NNMT', 0.005542182829231024), ('SERPINF1', 0.0051560355350375175), ('IGFBP5', 0.005147427786141634), ('IFITM3', 0.004831766709685326), ('PTX3', 0.004828079603612423), ('GSN', 0.004799314308911562), ('SLIT2', 0.004690870177000761), ('ELN', 0.004576364532113075), ('C1S', 0.004564738366752863), ('SPARCL1', 0.004374699667096138), ('MFAP5', 0.004326064605265856), ('FSTL1', 0.004300741013139486), ('COL6A2', 0.004266195930540562), ('SERPINE1', 0.004265970550477505), ('RARRES1', 0.0042344024404883385), ('ENSG00000273259', 0.004160955548286438), ('GFPT2', 0.003997301682829857), ('UAP1', 0.003923127893358469), ('TIMP3', 0.0038033153396099806), ('MT1E', 0.0037437656428664923), ('ENSG00000283563', 0.0036910215858370066), ('CYR61', 0.0034640331286937), ('FBN1', 0.003425542963668704), ('C7', 0.0034135892055928707), ('CDK19', 0.003374805673956871), ('IFITM2', 0.0033357064239680767), ('MT1A', 0.0033308130223304033), ('SDK1', 0.003279629861935973), ('ABI3BP', 0.0032203851733356714), ('CALD1', 0.003206175286322832), ('G0S2', 0.0031260382384061813), ('SFRP2', 0.002995264483615756), ('IGFBP4', 0.0029788422398269176), ('PRKG1', 0.0029093213379383087), ('SERPINE2', 0.002898209262639284), ('SYN3', 0.0028466093353927135), ('AKAP12', 0.0028434728737920523), ('SPARC', 0.0026875059120357037), ('CYP1B1', 0.002641424536705017), ('CTGF', 0.002627050504088402), ('NEGR1', 0.002594740828499198), ('DCLK1', 0.0025562967639416456), ('COL6A1', 0.002546244766563177), ('RARRES2', 0.0025138063356280327), ('EBF1', 0.0025072433054447174), ('A2M', 0.0024957694113254547), ('TGFBR3', 0.002476479858160019), ('COL6A3', 0.002473629079759121), ('EFEMP1', 0.0024725007824599743), ('PTGDS', 0.0024683931842446327), ('TPM2', 0.002464646240696311), ('IL1R1', 0.0023847268894314766), ('PLAC9', 0.0023509920574724674), ('EXT1', 0.002195934532210231), ('MYL9', 0.0021371678449213505), ('SAA1', 0.0021329026203602552), ('EGR1', 0.0021200613118708134), ('TSHZ2', 0.0020888331346213818), ('PI16', 0.0020632734522223473), ('PRELP', 0.002033441560342908), ('CCL2', 0.0020118835382163525), ('PRRX1', 0.0020111175253987312), ('PTGIS', 0.001989206299185753), ('MEG3', 0.001970208715647459), ('PCOLCE', 0.0019529137061908841), ('PBX1', 0.0019500339403748512), ('MARCH3', 0.0019219382666051388), ('PTPRG', 0.0018944550538435578), ('GPC6', 0.00186101533472538), ('SNED1', 0.00184494664426893), ('DEPP1', 0.0018338669324293733), ('SELENOM', 0.0018327129073441029), ('ZFPM2', 0.001831855857744813), ('MFAP4', 0.0018277596682310104), ('NAV2', 0.0018240161007270217), ('WISP2', 0.0017921263352036476), ('SLC39A14', 0.001770963310264051)], 2: [('CCL17', 0.01803719997406006), ('AREG', 0.013529439456760883), ('WFDC21P', 0.01072690263390541), ('FNBP1', 0.006265822798013687), ('RGS1', 0.00611970154568553), ('DENND4A', 0.006000167224556208), ('AFF3', 0.005712494254112244), ('NFKB1', 0.005033513065427542), ('PELI1', 0.004979985766112804), ('SERPINB9', 0.004907725844532251), ('ADAM28', 0.004713795613497496), ('GNG7', 0.004415132571011782), ('CXCR4', 0.004346016328781843), ('PTPN1', 0.004043309949338436), ('PRKCB', 0.0039059421978890896), ('SMAP2', 0.0037413148675113916), ('BACH2', 0.0037373718805611134), ('S100B', 0.003717193379998207), ('TNFRSF13C', 0.0035976243671029806), ('ID2', 0.0035521122626960278), ('SMCHD1', 0.003511629067361355), ('BANK1', 0.003483470296487212), ('CD69', 0.003449664916843176), ('ENTPD1', 0.0033804713748395443), ('MEF2C', 0.0033797977957874537), ('NR4A3', 0.0033501230645924807), ('ENSG00000279483', 0.003323396435007453), ('CHST11', 0.0032955871429294348), ('CAMK1D', 0.0032724279444664717), ('PLCG2', 0.0032570278272032738), ('BIRC3', 0.0032538017258048058), ('CCL22', 0.0032083187252283096), ('RHOH', 0.0031124891247600317), ('SNX9', 0.0030779370572417974), ('LTB', 0.003053181106224656), ('HDAC9', 0.003041802905499935), ('CRYBG1', 0.0030266616959124804), ('IL1R2', 0.0029228024650365114), ('SYTL3', 0.00291705341078341), ('BCL11A', 0.002871739212423563), ('PADI2', 0.002867611823603511), ('MS4A1', 0.0028041533660143614), ('IGHM', 0.002748640486970544), ('ZC3HAV1', 0.0027417903766036034), ('ST6GAL1', 0.002739335410296917), ('STK4', 0.0027291823644191027), ('EBF1', 0.002726302482187748), ('RALGPS2', 0.0026973988860845566), ('CST7', 0.0026804229710251093), ('NAPSB', 0.002678978256881237), ('ARHGAP24', 0.0026782858185470104), ('RGS2', 0.0026190828066319227), ('AUTS2', 0.0024358625523746014), ('BORCS5', 0.0023447847925126553), ('XYLT1', 0.0023409086279571056), ('ARHGAP15', 0.0023018328938633204), ('CCR7', 0.0022438960149884224), ('ADAM19', 0.0022209123708307743), ('CDC42SE2', 0.002219592919573188), ('ATP8B4', 0.002213924890384078), ('CARD11', 0.0022088796831667423), ('IFITM2', 0.0022045536898076534), ('CEMIP2', 0.0022021890617907047), ('TCF4', 0.00219810102134943), ('PFKFB3', 0.00216491031460464), ('DAPP1', 0.002164318459108472), ('RAMP1', 0.002137731295078993), ('BCL2', 0.002125810133293271), ('TOB1', 0.002123977290466428), ('PKIB', 0.0021156580187380314), ('CD79A', 0.002094540512189269), ('MAP4K4', 0.0020916901994496584), ('ANKRD33B', 0.002086603781208396), ('ZEB1', 0.002062592888250947), ('IRF4', 0.0020363498479127884), ('C15orf48', 0.002033286727964878), ('PMAIP1', 0.002010378986597061), ('FCER1A', 0.0019429570529609919), ('GNG2', 0.0019391296664252877), ('DUSP4', 0.0019299753475934267), ('HLA-DQA2', 0.0019214205676689744), ('GPAT3', 0.0019087728578597307), ('IGLC2', 0.0018758687656372786), ('MCOLN2', 0.0018435079837217927), ('CERS6', 0.0017595321405678988), ('LY9', 0.0017489735037088394), ('CMSS1', 0.0017383856466040015), ('SMG1P3', 0.0017197291599586606), ('PPP1R16B', 0.0016914571169763803), ('ISG20', 0.0016887946985661983), ('SSBP2', 0.001678330241702497), ('MIR155HG', 0.0016605975106358528), ('RNF144B', 0.001646930817514658), ('IGLC3', 0.0016318323323503137), ('HSPA1A', 0.0016315113753080368), ('PDE4D', 0.0016233418136835098), ('CLECL1', 0.0016216294607147574), ('ZFP36', 0.0015922021120786667), ('PACS1', 0.0015714631881564856), ('IRAK2', 0.001568347797729075)], 4: [('SFTPA1', 0.1173715814948082), ('SFTPA2', 0.08349564671516418), ('SLPI', 0.03550923615694046), ('NAPSA', 0.031958818435668945), ('SFTPD', 0.02070348709821701), ('PGC', 0.02038538083434105), ('SFTA2', 0.01689615473151207), ('MT1E', 0.013444577343761921), ('MACROD2', 0.011656434275209904), ('TCIM', 0.008617578074336052), ('PDE4D', 0.00806337594985962), ('MT1X', 0.0069635906256735325), ('SLC34A2', 0.006928411312401295), ('CXCL17', 0.005941091105341911), ('NEDD4L', 0.0056223757565021515), ('HOPX', 0.005567031912505627), ('JUN', 0.005351328756660223), ('CHI3L2', 0.0052724736742675304), ('AGR2', 0.0052032447420060635), ('CCL20', 0.005195106845349073), ('HP', 0.005091166589409113), ('PEBP4', 0.004716291557997465), ('SCGB3A1', 0.004633630625903606), ('MT1G', 0.004593393765389919), ('AGR3', 0.0043473197147250175), ('IER2', 0.004309249110519886), ('WFDC2', 0.004085967782884836), ('DLG2', 0.0040696244686841965), ('ZNF385B', 0.0040204524993896484), ('USP54', 0.0039025931619107723), ('GKN2', 0.003812952432781458), ('MGST1', 0.0037383686285465956), ('ABCA3', 0.0036947105545550585), ('ENSG00000273088', 0.0036207044031471014), ('LAMP3', 0.0036183292977511883), ('ENSG00000257520', 0.0035686404444277287), ('CNKSR3', 0.0033660978078842163), ('TACC2', 0.003350612474605441), ('HHIP', 0.0033410999458283186), ('ANK3', 0.0032932439353317022), ('S100A14', 0.0032299645245075226), ('KRT18', 0.0030990620143711567), ('MECOM', 0.0030734611209481955), ('AUTS2', 0.0029573433566838503), ('CXCL1', 0.0027578689623624086), ('EGR1', 0.002742606680840254), ('IFITM3', 0.002740222495049238), ('ELF3', 0.0027050902135670185), ('CDH1', 0.002700952347368002), ('TM4SF1', 0.0026831217110157013), ('C16orf89', 0.002638978650793433), ('WIF1', 0.0026179777923971415), ('SGPP2', 0.002555384999141097), ('PTPRG', 0.0025102270301431417), ('ALPL', 0.0025094749871641397), ('PARD6B', 0.0024279330391436815), ('KRT19', 0.0023990371264517307), ('SDR16C5', 0.002388607943430543), ('CLDN4', 0.0023503729607909918), ('CMAHP', 0.002311102347448468), ('DMBT1', 0.002296196296811104), ('ACOXL', 0.0022849540691822767), ('AFF3', 0.002268493175506592), ('AK1', 0.0022643355187028646), ('IFITM2', 0.002145172795280814), ('SHROOM3', 0.0021107743959873915), ('PIGR', 0.002099091885611415), ('ERBB4', 0.002044406719505787), ('SELENBP1', 0.002009755466133356), ('DSTN', 0.0019964606035500765), ('SDC4', 0.001990550896152854), ('ENSG00000249364', 0.0019784485921263695), ('SYNE1', 0.0019533883314579725), ('KRT8', 0.0019072199938818812), ('PARD3', 0.0018736827187240124), ('CYP2B7P', 0.0018473831005394459), ('ENSG00000250424', 0.0018197130411863327), ('DLC1', 0.0017799085471779108), ('TNC', 0.0017740863841027021), ('ORM1', 0.001764749176800251), ('MALL', 0.0017525829607620835), ('ENSG00000237413', 0.0017436784692108631), ('ZFP36', 0.0017301669577136636), ('TMEM125', 0.001725448528304696), ('WWC1', 0.0017194607062265277), ('RNASE1', 0.0017126057064160705), ('CADM1', 0.001665383344516158), ('RRAD', 0.001652332954108715), ('GYPA', 0.001632315805181861), ('FXYD3', 0.0016151805175468326), ('ID1', 0.0016054044244810939), ('ATP13A4', 0.0016008074162527919), ('MAST4', 0.001588962972164154), ('AGBL1', 0.0015849134651944041), ('ROS1', 0.0015817314852029085), ('SLC6A14', 0.0015812283381819725), ('MSMO1', 0.0015482144663110375), ('MYO1B', 0.0015306950081139803), ('SNX25', 0.0015262573724612594), ('SCGB3A2', 0.0015071120578795671)], 12: [('FCN3', 0.01828136295080185), ('SPARCL1', 0.014027860015630722), ('ADAMTS9', 0.01052877027541399), ('VWF', 0.010263047181069851), ('LDB2', 0.010122299194335938), ('MGP', 0.009186120703816414), ('CLDN5', 0.007332742214202881), ('EPAS1', 0.0069670649245381355), ('SYN3', 0.0068755196407437325), ('EMP1', 0.006749947555363178), ('BMPR2', 0.006474310997873545), ('TIMP3', 0.006116797681897879), ('IFITM3', 0.006055768579244614), ('ACKR1', 0.005999954883009195), ('TM4SF1', 0.005666789598762989), ('TCF4', 0.005592529661953449), ('CCL14', 0.0052732620388269424), ('ANO2', 0.005152481608092785), ('SERPINE1', 0.0051254150457680225), ('RALGAPA2', 0.004979549907147884), ('PTPRB', 0.004802717361599207), ('SLCO2A1', 0.0046434467658400536), ('ENSG00000224063', 0.004567474126815796), ('IL1RL1', 0.004456635564565659), ('IFITM2', 0.004411712288856506), ('MAGI1', 0.004340170882642269), ('TIMP1', 0.00418627867475152), ('KIAA1217', 0.004158461466431618), ('IGFBP7', 0.004142353311181068), ('ADGRL2', 0.004053773358464241), ('PTPRG', 0.004015074111521244), ('ID1', 0.00398670881986618), ('PLEKHG1', 0.003857462666928768), ('CLU', 0.003849268890917301), ('CTGF', 0.0038364329375326633), ('PIK3R3', 0.00383426109328866), ('MT1M', 0.003752466756850481), ('SORBS1', 0.0036861782427877188), ('MCTP1', 0.003631045576184988), ('ERG', 0.0035518568474799395), ('PTPRM', 0.0034000701270997524), ('TMTC1', 0.003211356932297349), ('IFI27', 0.0031485252548009157), ('CCL2', 0.0031250095926225185), ('TMEM100', 0.0031211976893246174), ('WWTR1', 0.003103075549006462), ('MT1X', 0.0031027577351778746), ('CAV1', 0.003093193517997861), ('ENSG00000250424', 0.003069163765758276), ('ABLIM1', 0.0030680522322654724), ('DEPP1', 0.0030221175402402878), ('SPTBN1', 0.0030190583784133196), ('DOCK9', 0.003014307701960206), ('CRIM1', 0.0029790608678013086), ('PECAM1', 0.0029703513719141483), ('GALNT18', 0.0029610698111355305), ('SYNE1', 0.0029406913090497255), ('RAPGEF4', 0.002930361544713378), ('RAMP2', 0.0029200126882642508), ('IGFBP3', 0.0028894650749862194), ('ST6GALNAC3', 0.0028445404022932053), ('CD59', 0.0028293943032622337), ('STXBP6', 0.0027778937947005033), ('SLC9A3R2', 0.002733418019488454), ('GNA14', 0.0026666794437915087), ('PCAT19', 0.002664317609742284), ('SASH1', 0.002646801760420203), ('ENSG00000283563', 0.002601421205326915), ('RAMP3', 0.002564082620665431), ('SOCS3', 0.002545452443882823), ('AFF3', 0.0025131895672529936), ('MEIS2', 0.0025086398236453533), ('AKAP12', 0.0025018921587616205), ('LIFR', 0.0024645966477692127), ('RAPGEF5', 0.0024265439715236425), ('EMCN', 0.00242183287627995), ('TFPI', 0.00238676555454731), ('PRSS23', 0.0023771794512867928), ('SELE', 0.002375685377046466), ('IL6', 0.0023691614624112844), ('APP', 0.0023268060758709908), ('IL1R1', 0.0023087975569069386), ('PITPNC1', 0.002276074606925249), ('CALD1', 0.002273453865200281), ('CSF3', 0.0022716419771313667), ('PLPP1', 0.0022573210299015045), ('PCDH17', 0.002255780855193734), ('PALM2-AKAP2', 0.0022464848589152098), ('ZFP36', 0.002234571846202016), ('NFIB', 0.0021785367280244827), ('TANC1', 0.0021764475386589766), ('ARHGAP29', 0.002150533255189657), ('POSTN', 0.0021489097271114588), ('MT1E', 0.0021435185335576534), ('SYNE2', 0.002133514964953065), ('FBXL7', 0.0021264690440148115), ('BTNL9', 0.00212100800126791), ('FAM107A', 0.0020818726625293493), ('EDN1', 0.0020780188497155905), ('ZNF385D', 0.0020175250247120857)], 9: [('CCL21', 0.1140456348657608), ('TFF3', 0.018223736435174942), ('IGFBP7', 0.01657189056277275), ('AKAP12', 0.014808914624154568), ('ADAMTS9', 0.008795041590929031), ('IGFBP5', 0.008302167989313602), ('PPFIBP1', 0.008210521191358566), ('MMRN1', 0.008061504922807217), ('GNG11', 0.007831167429685593), ('CLDN5', 0.007258268538862467), ('TSHZ2', 0.006808992475271225), ('LDB2', 0.0066977902315557), ('TFPI', 0.00660553527995944), ('KALRN', 0.006306559778749943), ('TIMP1', 0.005922094918787479), ('SEMA3A', 0.005686406511813402), ('PKHD1L1', 0.00561548164114356), ('ST6GALNAC3', 0.005309117492288351), ('CNKSR3', 0.005008545704185963), ('PLPP1', 0.004791087005287409), ('PLEKHG1', 0.004519954789429903), ('CAVIN2', 0.004170954693108797), ('RALGAPA2', 0.004096104763448238), ('IFITM3', 0.004063538275659084), ('APP', 0.00405541155487299), ('CLU', 0.0038341369945555925), ('TIMP3', 0.003805481130257249), ('PCAT19', 0.00377795472741127), ('EFNA5', 0.003737795166671276), ('MAGI1', 0.0037018307484686375), ('SNCG', 0.003551558591425419), ('STOX2', 0.0034265429712831974), ('ENSG00000224063', 0.0034001884050667286), ('NNMT', 0.003391121281310916), ('CNN3', 0.003306133206933737), ('LINC02147', 0.0032858597114682198), ('ENSG00000279686', 0.0032548713497817516), ('CD59', 0.0032241842709481716), ('EMP1', 0.003178807906806469), ('LYVE1', 0.003172104712575674), ('HES1', 0.0031329619232565165), ('TM4SF1', 0.003101503476500511), ('RHOJ', 0.0029856818728148937), ('NFIB', 0.002827276708558202), ('SPTBN1', 0.0027693479787558317), ('TCF4', 0.0027414215728640556), ('RAPGEF5', 0.002733553061261773), ('CD36', 0.0027106190100312233), ('ZFPM2', 0.002703417092561722), ('SEMA3D', 0.0025131963193416595), ('NXN', 0.0024960057344287634), ('SYN3', 0.0024846838787198067), ('PRKG1', 0.0024608734529465437), ('ABLIM1', 0.002383455401286483), ('TANC1', 0.002288355026394129), ('CALD1', 0.0022567715495824814), ('PALM2-AKAP2', 0.00224907323718071), ('NTS', 0.0022415753919631243), ('CRIP2', 0.0022253382485359907), ('PODXL', 0.0022252355702221394), ('FBXL7', 0.002208204474300146), ('TLL1', 0.0021968642249703407), ('GPM6A', 0.0021857197862118483), ('WWTR1', 0.002164613688364625), ('IFITM2', 0.002162057673558593), ('SNTG2', 0.0021520894952118397), ('CASP17P', 0.002148502506315708), ('CATSPERB', 0.002145688980817795), ('TGFB2', 0.002145246136933565), ('NTN1', 0.0021449264604598284), ('NR2F1', 0.0021344884298741817), ('HIF3A', 0.0021254215389490128), ('PDPN', 0.002124096266925335), ('SLC9A3R2', 0.0020528919994831085), ('MIR4435-2HG', 0.002045416971668601), ('PROX1', 0.002008720999583602), ('PGM5', 0.0020012035965919495), ('HECW2', 0.0019972994923591614), ('ITGA9', 0.0019914996810257435), ('RAMP2', 0.001988039119169116), ('MT1X', 0.001967753516510129), ('ENSG00000283563', 0.0019455106230452657), ('CNTNAP3B', 0.001910619204863906), ('SEMA6A', 0.0019069247646257281), ('TMTC1', 0.0018631997518241405), ('CAV1', 0.001854250323958695), ('ZDHHC14', 0.0018541045719757676), ('CXorf36', 0.0018276511691510677), ('TBX1', 0.001810892834328115), ('STON2', 0.0017541636480018497), ('ENSG00000223786', 0.0017529207980260253), ('LHFPL6', 0.001750787952914834), ('HYAL2', 0.0017483998090028763), ('PHLDB2', 0.0017468198202550411), ('LAMA4', 0.0017364249797537923), ('RGS16', 0.0017156562535092235), ('STC1', 0.0017006107373163104), ('TGFBR2', 0.0016668507596477866), ('MEIS2', 0.0016596530331298709), ('TSPAN5', 0.0016094009624794126)], 15: [('SPP1', 0.1432841718196869), ('MT1X', 0.06591011583805084), ('MT1G', 0.05882582813501358), ('MT1E', 0.032981887459754944), ('CXCL10', 0.022276224568486214), ('MT1H', 0.01450782734900713), ('CCL2', 0.009516534395515919), ('MT1M', 0.008762159384787083), ('MT1F', 0.006568875629454851), ('ISG15', 0.006224853452295065), ('IFI6', 0.005259331781417131), ('MT1L', 0.004879025276750326), ('ENSG00000279483', 0.004873939324170351), ('CCL20', 0.004655311815440655), ('CTSL', 0.004255620297044516), ('CXCL9', 0.004233794752508402), ('HMOX1', 0.004179003648459911), ('MT1A', 0.003962268587201834), ('IFI27', 0.003693031147122383), ('HSPA1A', 0.0034298368263989687), ('IL1RN', 0.00300252391025424), ('G0S2', 0.002962350146844983), ('C15orf48', 0.0029342370107769966), ('MMP7', 0.0027726402040570974), ('TIMP1', 0.002724483609199524), ('PPBP', 0.0026460422668606043), ('MT2P1', 0.002610381692647934), ('RGS1', 0.0024505797773599625), ('CXCL11', 0.002376826945692301), ('GBP1', 0.0023763617500662804), ('AREG', 0.0023533282801508904), ('RGCC', 0.002204743679612875), ('HSPA1B', 0.002176587702706456), ('CCL8', 0.0020604850724339485), ('CD14', 0.0020171250216662884), ('IFITM10', 0.002010316587984562), ('CCL4', 0.0019745861645787954), ('CD36', 0.0019449583487585187), ('NUPR1', 0.0018855549860745668), ('CRADD', 0.0018706577830016613), ('LGMN', 0.0018669191049411893), ('IFITM3', 0.0018381689442321658), ('EREG', 0.001810731366276741), ('SDC2', 0.001771487295627594), ('CXCL5', 0.001748385257087648), ('RNASE1', 0.0017208342906087637), ('THBS1', 0.0016979421488940716), ('JUN', 0.0016676178202033043), ('SLPI', 0.0016191997565329075), ('SNX9', 0.0015987022779881954), ('GSN', 0.0015709808794781566), ('CHI3L1', 0.0015630285488441586), ('EMP1', 0.0015218171756714582), ('MMP9', 0.0014523345744237304), ('NFKB1', 0.0014455538475885987), ('CHST11', 0.0014434572076424956), ('MRPS6', 0.001438349368982017), ('CCL21', 0.0014366790419444442), ('ZFP36', 0.0014330013655126095), ('DNAJB1', 0.0014141203137114644), ('WARS', 0.0014125233283266425), ('IL1B', 0.0014054517960175872), ('ATP2B1', 0.0013947943225502968), ('ID2', 0.0013766043120995164), ('ABCA1', 0.0013557724887505174), ('ENSG00000263574', 0.0013406979851424694), ('HIST2H2AA4', 0.001334561500698328), ('IGLL5', 0.0013337568379938602), ('RETN', 0.0013072083238512278), ('TSC22D3', 0.0012937068240717053), ('MMP19', 0.001293447334319353), ('MT-TE', 0.0012769839959219098), ('FN1', 0.001276173279620707), ('ENSG00000284685', 0.0012509670341387391), ('ITGAX', 0.0012332398910075426), ('PELI1', 0.001214819261804223), ('CCL4L2', 0.0012074988335371017), ('RGS2', 0.0012030769139528275), ('APOC4-APOC2', 0.0011989508057013154), ('CYP1B1', 0.0011976240202784538), ('FMN1', 0.0011892884504050016), ('GK', 0.0011883777333423495), ('TNFAIP3', 0.0011847473215311766), ('HSPB1P1', 0.0011710386024788022), ('CCL13', 0.001132100005634129), ('BAG3', 0.0011258827289566398), ('PLTP', 0.0011240678140893579), ('MUCL1', 0.001087740994989872), ('IFITM2', 0.0010720895370468497), ('MARCKS', 0.0010720305144786835), ('ENSG00000274213', 0.001056050998158753), ('CCL7', 0.0010547740384936333), ('SAA1', 0.0010528180282562971), ('TEX14', 0.0010487324325367808), ('SERPING1', 0.0010461061028763652), ('TTTY14', 0.0010177212534472346), ('ADM', 0.0010069601703435183), ('CD109', 0.0010004222858697176), ('SPINK1', 0.0009974712738767266), ('FNDC3A', 0.0009891658555716276)], 19: [('SCGB1A1', 0.29767951369285583), ('SCGB3A1', 0.21257145702838898), ('SCGB3A2', 0.06466023623943329), ('SLPI', 0.028609206900000572), ('SAA1', 0.014690935611724854), ('BPIFB1', 0.010628227144479752), ('WFDC2', 0.008915972895920277), ('LCN2', 0.008780951611697674), ('SAA2-SAA4', 0.007107260636985302), ('IGHA1', 0.004710403736680746), ('PIGR', 0.0043047694489359856), ('LTF', 0.0029613084625452757), ('AGR2', 0.0027102648746222258), ('MSMB', 0.0019704012665897608), ('CXCL1', 0.0018350621685385704), ('LINC00511', 0.0017787945689633489), ('NEDD4L', 0.0017510957550257444), ('CYP2B7P', 0.001719508203677833), ('KRT19', 0.0016794257098808885), ('DNAH12', 0.0016306706238538027), ('ELF3', 0.00162363494746387), ('CXCL17', 0.0015005851164460182), ('ANKRD36C', 0.0014989097835496068), ('TMC5', 0.0014803047524765134), ('GPRC5A', 0.0014485141728073359), ('KIAA1217', 0.001375942025333643), ('RP1', 0.0013656830415129662), ('MGP', 0.0013286476023495197), ('CFAP299', 0.0013029146939516068), ('CDH1', 0.0012851724168285728), ('CAPS', 0.0012334136990830302), ('AGBL4', 0.001203069812618196), ('TACSTD2', 0.0011956723174080253), ('TPPP3', 0.0011658655712381005), ('SDK1', 0.0011388236889615655), ('CMAHP', 0.0010884251678362489), ('CLDN4', 0.0010789410443976521), ('HYDIN', 0.001072471495717764), ('TFF3', 0.001039884053170681), ('MUC4', 0.0010093633318319917), ('BMPR1B', 0.0009908380452543497), ('SOX4', 0.0009625434759072959), ('CCL2', 0.000961161742452532), ('PI3', 0.0009122271439991891), ('DNAH9', 0.0008874285849742591), ('STK33', 0.0008330743876285851), ('TMEM232', 0.0008255811990238726), ('CDHR3', 0.0008210554369725287), ('RSPH1', 0.0008026271825656295), ('RIMS1', 0.0008023554692044854), ('AQP4-AS1', 0.0007858259486965835), ('FTO', 0.0007799695595167577), ('AGR3', 0.0007730738143436611), ('C9orf24', 0.0007662840071134269), ('TSPAN1', 0.0007637260132469237), ('RNASE1', 0.0007557481876574457), ('TMEM45A', 0.000749684520997107), ('ARHGAP42', 0.0007479421910829842), ('FXYD3', 0.0007379637099802494), ('PTPRT', 0.0007369029335677624), ('CLIC6', 0.0007158296066336334), ('C20orf85', 0.0007104211836121976), ('SPAG16', 0.0007071707514114678), ('ENSG00000273088', 0.0007015070295892656), ('S100P', 0.00070097332354635), ('EFNA5', 0.0006916085258126259), ('CFAP54', 0.0006911356467753649), ('DEFB4A', 0.0006885336479172111), ('NEK10', 0.0006846975302323699), ('LRRIQ1', 0.0006828660843893886), ('KRT7', 0.0006751862820237875), ('CEACAM6', 0.0006747067091055214), ('PDE4D', 0.0006557407323271036), ('DNAH5', 0.0006513884291052818), ('SDC4', 0.0006486944621428847), ('SHANK2', 0.0006460882723331451), ('GSTA1', 0.0006400929414667189), ('RFX3', 0.0006388651090674102), ('MAPK10', 0.0006374471704475582), ('GDF15', 0.0006284264381974936), ('F3', 0.0006271800375543535), ('CP', 0.000625764369033277), ('SFTPA2', 0.0006204977398738265), ('EVA1C', 0.0006154110888019204), ('DNAH7', 0.00061322923284024), ('GNA14', 0.0006099303136579692), ('RBPMS', 0.000604962173383683), ('ENSG00000267748', 0.0006044134497642517), ('FOLR1', 0.0006007105112075806), ('ANK3', 0.0005995781975798309), ('PARD3', 0.0005922626587562263), ('MAGI1', 0.0005832119495607913), ('DNAH11', 0.0005828229477629066), ('PACRG', 0.0005822921521030366), ('GLIS3', 0.0005804647807963192), ('FAM183A', 0.0005785437533631921), ('DCDC1', 0.0005774445016868412), ('MACROD2', 0.0005773580633103848), ('NFIA', 0.0005756208556704223), ('LIPH', 0.0005709819379262626)], 8: [('EMP2', 0.023984961211681366), ('NTM', 0.021586239337921143), ('AGER', 0.02145981416106224), ('CAV1', 0.016027478501200676), ('KRT7', 0.012679420411586761), ('NCKAP5', 0.011792317032814026), ('HOPX', 0.011579171754419804), ('LIMCH1', 0.009177245199680328), ('CEACAM6', 0.009063645265996456), ('GPRC5A', 0.008914987556636333), ('KRT19', 0.007701193448156118), ('ENSG00000267748', 0.007676632143557072), ('LMO7', 0.007303851190954447), ('ATF7IP2', 0.0066278185695409775), ('ANKRD1', 0.006439298391342163), ('SFTA2', 0.006174237467348576), ('DSTN', 0.005875326693058014), ('MYL9', 0.0057687778025865555), ('GPC5', 0.005631356034427881), ('KHDRBS2', 0.00503845838829875), ('KRT18', 0.004874412901699543), ('RTKN2', 0.0048602428287267685), ('LAMA3', 0.004818485118448734), ('NEBL', 0.004625990986824036), ('SCEL', 0.004425731021910906), ('CLDN18', 0.00442212400957942), ('NEDD4L', 0.004392311908304691), ('MAGI1', 0.004254290368407965), ('CCL17', 0.003978869877755642), ('CAV2', 0.0038900633808225393), ('CLIC5', 0.0038600931875407696), ('TSPAN13', 0.003823960665613413), ('CADM1', 0.0037855328992009163), ('RNASE1', 0.0037074151914566755), ('TACSTD2', 0.0036577179562300444), ('ENSG00000257894', 0.0035148232709616423), ('FXYD3', 0.003481280989944935), ('TIMP3', 0.003254713723435998), ('ENSG00000275757', 0.0032534676138311625), ('COL8A1', 0.0032154489308595657), ('KRT8', 0.0031614762265235186), ('MAGI3', 0.003158926498144865), ('TNNC1', 0.0031567008700221777), ('ENSG00000283563', 0.003135691164061427), ('CYP4Z2P', 0.0031230321619659662), ('ROR1', 0.0031143908854573965), ('EPB41L5', 0.003083131043240428), ('ENSG00000280441', 0.0030167207587510347), ('CYP4B1', 0.0030166597571223974), ('DAPK2', 0.003002066630870104), ('SUSD2', 0.0029542988631874323), ('CLIC3', 0.002912279684096575), ('PARD3', 0.002840088214725256), ('SLC39A8', 0.0028340094722807407), ('LINC01290', 0.002743939869105816), ('SPOCK2', 0.0027194065041840076), ('ST6GALNAC5', 0.0026897236239165068), ('ENSG00000249364', 0.0026896793860942125), ('ANXA3', 0.002565594855695963), ('ATP13A4', 0.0025473637506365776), ('MYO1B', 0.002486932324245572), ('MSLN', 0.0024526994675397873), ('MAP2', 0.0024059663992375135), ('SPTBN1', 0.0023910801392048597), ('NAPSA', 0.0023771070409566164), ('FOLR1', 0.0023685533087700605), ('GGTLC1', 0.002360257552936673), ('MS4A15', 0.002358044730499387), ('ENSG00000261553', 0.002346375258639455), ('ARHGEF26', 0.0023261657916009426), ('ENSG00000273088', 0.0023086178116500378), ('AQP4', 0.002274725353345275), ('SEMA3B', 0.002236795611679554), ('PATJ', 0.0022100619971752167), ('ID1', 0.00211136881262064), ('PLCXD2', 0.0020949826575815678), ('DHCR24', 0.00209376635029912), ('ENSG00000257520', 0.0020529560279101133), ('DST', 0.0020184158347547054), ('PARD6B', 0.0020036573987454176), ('COL4A3', 0.0020003817044198513), ('SDC1', 0.0019744220189750195), ('CDH1', 0.001973796635866165), ('MYO16', 0.0019582677632570267), ('GPM6A', 0.0019349611829966307), ('ENSG00000278996', 0.001915017724968493), ('GPRC5D-AS1', 0.0019137522904202342), ('DLC1', 0.0018745185807347298), ('CYP2B7P', 0.0018706743139773607), ('SFTA1P', 0.0018517140997573733), ('ANKRD29', 0.0018353222403675318), ('PLS3', 0.0018279168289154768), ('MECOM', 0.0018012240761891007), ('RANBP17', 0.0017656884156167507), ('SHROOM3', 0.0017583761364221573), ('POLDIP3', 0.001752520096488297), ('WFS1', 0.0016988528659567237), ('BEX3', 0.001685006427578628), ('GLCCI1', 0.001672230544500053), ('NAV2', 0.0016559249488636851)], 5: [('TPSB2', 0.06552251428365707), ('TPSAB1', 0.04790094494819641), ('ITLN1', 0.03169804438948631), ('TIMP1', 0.012372503988444805), ('HP', 0.006783569697290659), ('C3', 0.005497475620359182), ('LAMC2', 0.005371836945414543), ('TNC', 0.00492966128513217), ('ABI3BP', 0.004774739500135183), ('MT1E', 0.004378830082714558), ('IL1RL1', 0.004362667910754681), ('AREG', 0.0042185550555586815), ('CD69', 0.004218509886413813), ('SLPI', 0.003514374140650034), ('SLC24A3', 0.0034594584722071886), ('MTND4P12', 0.0034368655178695917), ('CPA3', 0.0033914330415427685), ('PRG4', 0.0033357564825564623), ('NFATC2', 0.003216818440705538), ('PLA2G2A', 0.003175189020112157), ('ATP2B4', 0.0029035680927336216), ('MAST4', 0.0028367163613438606), ('KIT', 0.002774129156023264), ('TM4SF1', 0.0026688429061323404), ('MT1X', 0.002603363012894988), ('GFPT2', 0.0025611980818212032), ('EGFR', 0.0024635549634695053), ('CCDC80', 0.0024093561805784702), ('KRT18', 0.0023977195378392935), ('SYTL3', 0.002383788349106908), ('EXT1', 0.002268224023282528), ('ALDH1A3', 0.0022535682655870914), ('KRT19', 0.0022339553106576204), ('DENND4A', 0.0022026377264410257), ('ADAM12', 0.002151967491954565), ('ADAMTS9', 0.0021423855796456337), ('HPGDS', 0.0021232599392533302), ('NFKB1', 0.0020784095395356417), ('SLC7A2', 0.002067399676889181), ('DCN', 0.001985768787562847), ('FGFR1', 0.0019551608711481094), ('RGS1', 0.0019447010708972812), ('ADGRE2', 0.0019396751886233687), ('NTM', 0.0019376211566850543), ('IGFBP5', 0.0018733046017587185), ('ZFPM2', 0.001870863139629364), ('RARRES1', 0.0018514830153435469), ('SFTPA1', 0.0018336995271965861), ('EFNA5', 0.00180780456867069), ('MARCH3', 0.0017701884498819709), ('SMAD3', 0.0017437436617910862), ('C4B', 0.0017157909460365772), ('ENSG00000276850', 0.0016878374153748155), ('DIP2C', 0.0016610363963991404), ('CALD1', 0.0016221735859289765), ('ANXA8L1', 0.0016215060604736209), ('PMS2P7', 0.0016126618720591068), ('GATA2', 0.001601901021786034), ('BNC2', 0.001600277260877192), ('IFITM2', 0.001582200638949871), ('IFITM3', 0.0015741134993731976), ('ID2', 0.001568257692269981), ('PRKG1', 0.001558425254188478), ('RGS2', 0.0014947288436815143), ('FAT1', 0.001490865251980722), ('SLIT2', 0.00148600316606462), ('PHLDB2', 0.0014846870908513665), ('ACSL4', 0.0014756473246961832), ('ENSG00000278996', 0.001474744058214128), ('PBX1', 0.0014690959360450506), ('CHN2', 0.0014327745884656906), ('SAMD4A', 0.0014311925042420626), ('SULF1', 0.0014282920164987445), ('MSLN', 0.0014269615057855844), ('MIR100HG', 0.001425777212716639), ('ANXA8', 0.0014122985303401947), ('SEMA3C', 0.0013937579933553934), ('HAS1', 0.0013805172638967633), ('CDK19', 0.0013766610063612461), ('TNFAIP3', 0.0013754706596955657), ('MAP4K4', 0.0013713063672184944), ('CREB5', 0.0013685883022844791), ('RHOH', 0.001362209557555616), ('SLC39A8', 0.0013611604226753116), ('RANBP2', 0.001354498090222478), ('CACNB2', 0.0013441084884107113), ('UPK3B', 0.0013396082213148475), ('ENSG00000283563', 0.0013295372482389212), ('PDZRN4', 0.0013232737546786666), ('CLU', 0.0013058265903964639), ('ENSG00000244255', 0.001297677168622613), ('JUN', 0.0012908332282677293), ('CLIC4', 0.0012882438022643328), ('SYN3', 0.0012853407533839345), ('ANKRD28', 0.0012849429622292519), ('FAM153B', 0.001273789326660335), ('SFTPA2', 0.0012692944146692753), ('CFD', 0.0012284689582884312), ('COBL', 0.0012280690716579556), ('ROR2', 0.001210440183058381)], 17: [('IGLC2', 0.34415772557258606), ('IGHM', 0.22690369188785553), ('IGLC3', 0.155740886926651), ('IGHA1', 0.06780412793159485), ('JCHAIN', 0.05413820222020149), ('IGHGP', 0.01973467878997326), ('IGHG1', 0.010482868179678917), ('IGHA2', 0.008451255969703197), ('IGHG2', 0.00770665192976594), ('MZB1', 0.005550052039325237), ('IGHG3', 0.004232042469084263), ('IGLL5', 0.003845976898446679), ('TXNDC5', 0.001223518862389028), ('HIST1H4C', 0.0009893681854009628), ('PELI1', 0.0009163288632407784), ('ST6GAL1', 0.0007870502886362374), ('DERL3', 0.0007682848372496665), ('CYTOR', 0.0007653856882825494), ('IGLV10-54', 0.0007500821375288069), ('ITM2C', 0.0006196968606673181), ('CFD', 0.0006118911551311612), ('ENSG00000254698', 0.0006044247420504689), ('ENSG00000257221', 0.0005646954523399472), ('CD79A', 0.0004644602886401117), ('DCN', 0.0004422997299116105), ('PLCG2', 0.00043795956298708916), ('HMOX1', 0.00042293008300475776), ('PIM2', 0.00042124316678382456), ('ANKRD28', 0.0004191266489215195), ('SFTPA2', 0.00038691607187502086), ('MIR4435-2HG', 0.00038454646710306406), ('CCND2', 0.0003771404444705695), ('MT1X', 0.0003662841918412596), ('LINC02384', 0.0003611880529206246), ('SFTPA1', 0.00034022011095657945), ('SLAMF7', 0.0003098358865827322), ('GNG7', 0.00029473481117747724), ('TENT5C', 0.0002921281848102808), ('TEX14', 0.0002871876349672675), ('PARP16', 0.00028148002456873655), ('POU2AF1', 0.0002782966766972095), ('PTPN1', 0.0002774166059680283), ('IGFBP6', 0.00027506830519996583), ('ISG20', 0.0002733735600486398), ('IFNG-AS1', 0.0002687071973923594), ('NDUFAF6', 0.00026127774617634714), ('SLC2A5', 0.0002500195987522602), ('ENSG00000263574', 0.00024833049974404275), ('BFSP2', 0.0002456847869325429), ('BIRC3', 0.0002448288141749799), ('EIF2AK3', 0.00023157027317211032), ('CCL20', 0.00023107793822418898), ('DUSP5', 0.00022890549735166132), ('DNAAF1', 0.00022327087935991585), ('RGS1', 0.00021893237135373056), ('CAMP', 0.0002181059098802507), ('HIST1H2AC', 0.000216633576201275), ('CCL4', 0.00021517538698390126), ('CD38', 0.00021252660371828824), ('ENSG00000273154', 0.00020886736456304789), ('HSPA1B', 0.0002061923878500238), ('SLPI', 0.00019761285511776805), ('PLA2G2A', 0.0001957715576281771), ('TNFRSF13B', 0.00019226482254453003), ('CD27', 0.00018912411178462207), ('THBS1', 0.00018876999092753977), ('STRBP', 0.00018443184671923518), ('RNU2-63P', 0.00018418401305098087), ('MYO1E', 0.00018041790463030338), ('IL1R2', 0.0001773532567312941), ('MIR155HG', 0.0001757596037350595), ('SPAG4', 0.00017542483692523092), ('G0S2', 0.00017269128875341266), ('ADAM19', 0.00017028339789249003), ('SQSTM1', 0.00016995449550449848), ('MSI2', 0.0001696806721156463), ('MT1G', 0.00016447603411506861), ('ZBP1', 0.00016432625125162303), ('AREG', 0.00016411577234975994), ('TMEM156', 0.00016313162632286549), ('SETBP1', 0.00016276862879749388), ('FAM214A', 0.00016178577789105475), ('ATP2B1', 0.00016171601600944996), ('ENSG00000225889', 0.00016170342860277742), ('PRDM1', 0.00016143631364684552), ('ITGA8', 0.00016079805209301412), ('HDAC9', 0.00015952122339513153), ('ANKRD36BP2', 0.00015917532437015325), ('ENSG00000224467', 0.0001590031897649169), ('HIST1H2BJ', 0.0001587193983141333), ('IL1B', 0.00015289276780094951), ('RETN', 0.00015015309327282012), ('CTSL', 0.00014954224752727896), ('DENND4A', 0.00014790946443099529), ('CROCC', 0.00014763811486773193), ('LINC01943', 0.00014629977522417903), ('SERPINB9', 0.00014581202412955463), ('HIST1H1C', 0.0001450787967769429), ('CXCR4', 0.00014338437176775187), ('EREG', 0.00014273007400333881)], 18: [('IGHG2', 0.20219849050045013), ('IGHG1', 0.18682388961315155), ('IGHGP', 0.18662956357002258), ('IGHG3', 0.18429116904735565), ('IGLC3', 0.17054042220115662), ('IGHG4', 0.06549055129289627), ('IGLL5', 0.0319628044962883), ('JCHAIN', 0.022937627509236336), ('IGLC2', 0.02119360864162445), ('MZB1', 0.004272907041013241), ('SCGB3A2', 0.0028944408986717463), ('SCGB1A1', 0.0025005401112139225), ('CYTOR', 0.0008575402316637337), ('MT1X', 0.0008402882958762348), ('ST6GAL1', 0.0008313878206536174), ('TXNDC5', 0.0007237721001729369), ('PFAS', 0.0007011095876805484), ('ANKRD28', 0.0006888335919938982), ('TEX14', 0.0006447691121138632), ('PIM2', 0.0005276561132632196), ('TBC1D9', 0.000521153851877898), ('DERL3', 0.0005131133948452771), ('ENSG00000257221', 0.0005036580841988325), ('EIF2AK3', 0.00046283373376354575), ('MIR4435-2HG', 0.00045995853724889457), ('DNAAF1', 0.0004491807776503265), ('GNG7', 0.0004434280563145876), ('CCDC144CP', 0.00044318719301372766), ('LINC02384', 0.00043201702646911144), ('S100B', 0.00042563400347717106), ('CD79A', 0.00040242340764962137), ('CCDC144B', 0.00039377520442940295), ('ENSG00000254698', 0.0003812866925727576), ('HIST1H4C', 0.0003486785863060504), ('ITM2C', 0.00033445016015321016), ('CCDC144A', 0.00029808489489369094), ('TOX', 0.00028899716562591493), ('IFNG-AS1', 0.00028145345277152956), ('SLAMF1', 0.00027338427025824785), ('PELI1', 0.0002652317052707076), ('JUN', 0.000263639580225572), ('PLCG2', 0.00026132570928893983), ('NDUFAF6', 0.00025387483765371144), ('RGS1', 0.000252014200668782), ('HIST1H2AC', 0.0002331998257432133), ('CD27', 0.00023129780311137438), ('ENSG00000225889', 0.00022832048125565052), ('SLAMF7', 0.00022647043806500733), ('IGLV10-54', 0.00021941380691714585), ('POU2AF1', 0.0002162093878723681), ('COBLL1', 0.0002157228736905381), ('TBCEL', 0.0002090374327963218), ('DUSP5', 0.0002087409229716286), ('CROCC', 0.00020870692969765514), ('FCER1A', 0.0002028374874498695), ('PARP16', 0.00019903107022400945), ('CTC1', 0.00019877227896358818), ('STAP1', 0.000194262494915165), ('HSPD1', 0.00018842249119188637), ('RHOH', 0.00018831454508472234), ('STRBP', 0.00017439131624996662), ('ARHGAP42', 0.00017298672173637897), ('PTPN1', 0.0001700537104625255), ('SERPINB9', 0.00016559734649490565), ('ENSG00000282143', 0.00016444748325739056), ('MSI2', 0.00016234656504821032), ('MIR155HG', 0.00016225525178015232), ('WFDC21P', 0.00016117126506287605), ('ENSG00000273154', 0.0001603438431629911), ('LINC01943', 0.0001601250987732783), ('HIST2H2AA4', 0.00015815540973562747), ('KCNQ5', 0.00015773226914461702), ('FAM214A', 0.00015549722593277693), ('TPD52', 0.00015348407032433897), ('ENSG00000253690', 0.00015089251974131912), ('HIST1H2BG', 0.0001502023369539529), ('SETBP1', 0.0001470796560170129), ('ANKRD36BP2', 0.00014611953520216048), ('HIST1H1C', 0.0001458305778214708), ('TENT5C', 0.00014429492875933647), ('TNFRSF13B', 0.0001438158651581034), ('ENSG00000270022', 0.00014058392844162881), ('DENND4A', 0.00013998770737089217), ('ITGA8', 0.00013907709217164665), ('CFAP54', 0.00013890601985622197), ('HIST1H2BD', 0.00013844174100086093), ('ENSG00000249988', 0.00013799687440041453), ('ISG20', 0.00013737607514485717), ('BIRC3', 0.00013657478848472238), ('CDK6', 0.00013507145922631025), ('MT1F', 0.00013386044884100556), ('ENSG00000224467', 0.0001337000576313585), ('HDAC9', 0.00013200333341956139), ('ITGA6', 0.00013125405530445278), ('IRF4', 0.00012779775715898722), ('CD70', 0.00012680170766543597), ('TOB1', 0.00012635298480745405), ('CUBN', 0.00012518916628323495), ('HIST1H2BJ', 0.00012442418665159494), ('HIST2H4A', 0.00012360294931568205)], 13: [('SCGB1A1', 0.49375709891319275), ('SCGB3A1', 0.39860594272613525), ('SLPI', 0.011514170095324516), ('BPIFB1', 0.004158376716077328), ('SCGB3A2', 0.003912321291863918), ('WFDC2', 0.00380892725661397), ('SPP1', 0.0013255930971354246), ('LCN2', 0.0012028166092932224), ('PIGR', 0.001120318891480565), ('SAA1', 0.0009524851921014488), ('CXCL1', 0.0009514984558336437), ('LTF', 0.0007411153637804091), ('SAA2-SAA4', 0.0006689148722216487), ('FOLR1', 0.00057831103913486), ('SFTPA1', 0.000540719018317759), ('LINC00511', 0.000497671659104526), ('KRT19', 0.0004937902558594942), ('BMPR1B', 0.0004847650998272002), ('TACSTD2', 0.0004805813077837229), ('AZGP1', 0.0004399842000566423), ('SFTPA2', 0.0004320293664932251), ('GPRC5A', 0.000345957581885159), ('TSPAN8', 0.0003431085788179189), ('ELF3', 0.00033598620211705565), ('CDH1', 0.00031712569762021303), ('CXCL17', 0.0003019342548213899), ('KIAA1217', 0.0002986327453982085), ('TMEM45A', 0.0002852484176401049), ('THBS1', 0.00028439302695915103), ('SOX4', 0.0002838501532096416), ('PI3', 0.00028279449907131493), ('ARHGAP42', 0.00026810605777427554), ('CLDN4', 0.00024727737763896585), ('SDK1', 0.00024225367815233767), ('ENSG00000273259', 0.00023733045964036137), ('CLU', 0.00023648109345231205), ('EFNA5', 0.00023026920098345727), ('NEDD4L', 0.00022975228785071522), ('KLK10', 0.0002287351671839133), ('GSTA1', 0.000222341317567043), ('ALDH1A3', 0.00021733534231316298), ('GPRC5D-AS1', 0.00021386750449892133), ('MTND4P12', 0.00021262397058308125), ('HSPA1A', 0.00020347544341348112), ('CYP2B7P', 0.00020178378326818347), ('MUC4', 0.00019888233509846032), ('CP', 0.00019727637118194252), ('TMC5', 0.00019304864690639079), ('MMP7', 0.0001908293052110821), ('ITPKC', 0.00018912476662080735), ('C3', 0.00018864573212340474), ('HIVEP3', 0.00018637339235283434), ('SLC2A3', 0.00018216062744613737), ('PGC', 0.00018193740106653422), ('SLC4A4', 0.0001814282004488632), ('MAST4', 0.00017925575957633555), ('CYP2F1', 0.00017628676141612232), ('MUCL1', 0.00016854603018146008), ('RIMS1', 0.00016768003115430474), ('KRT7', 0.0001676126994425431), ('NFKB1', 0.000163891221745871), ('RGS1', 0.0001629470061743632), ('ANKRD36C', 0.00016168395814020187), ('COBL', 0.0001547311112517491), ('FAM160A1', 0.00015377420641016215), ('PLCB1', 0.0001528119173599407), ('RBPJ', 0.00015071278903633356), ('MSMB', 0.0001502782106399536), ('CYR61', 0.0001502112572779879), ('RNF144B', 0.00014928795280866325), ('IL1R2', 0.00014857800852041692), ('ARHGAP15', 0.000147235143231228), ('AREG', 0.00014128192560747266), ('HSPA1B', 0.00014003834803588688), ('IFITM10', 0.00013687688624486327), ('HES4', 0.00013611801841761917), ('WWC1', 0.00013511731231119484), ('CMAHP', 0.00013481937639880925), ('GK', 0.0001342866598861292), ('BAG3', 0.00013427156955003738), ('CHST11', 0.00013425534416455775), ('GRAMD2B', 0.00013070822751615196), ('MTCO1P40', 0.00013045937521383166), ('ABCA1', 0.00012954819248989224), ('FOXO1', 0.00012867966142948717), ('SNX9', 0.00012843737204093486), ('C16orf89', 0.00012805410369765013), ('AGR2', 0.00012687355047091842), ('TIMP1', 0.00012615419109351933), ('MAP4K4', 0.00012588949175551534), ('RNASE1', 0.00012416017125360668), ('USP54', 0.0001241060672327876), ('G0S2', 0.0001240768760908395), ('MACROD2', 0.00012319466623011976), ('PDE4D', 0.00012169112596893683), ('PTPRJ', 0.00012154396972618997), ('FNDC3A', 0.0001177260564872995), ('CAPN13', 0.00011703446216415614), ('TPST1', 0.0001158461018349044), ('NEBL', 0.0001156274665845558)], 7: [('IGHA1', 0.4307714104652405), ('JCHAIN', 0.12523877620697021), ('IGHA2', 0.06618379056453705), ('MZB1', 0.005966527387499809), ('PELI1', 0.002135071437805891), ('TXNDC5', 0.0019520851783454418), ('SFTPA2', 0.0018606458324939013), ('TEX14', 0.0018574822461232543), ('ANKRD28', 0.0017950861947610974), ('SFTPA1', 0.0015013422816991806), ('ENSG00000257221', 0.0014364980161190033), ('EREG', 0.0012251187581568956), ('CYTOR', 0.0011804382083937526), ('DERL3', 0.0010569308651611209), ('THBS1', 0.000979123404249549), ('IL1R2', 0.0009284913539886475), ('ST6GAL1', 0.0009105845238082111), ('JMY', 0.0008660407620482147), ('CD79A', 0.000858330400660634), ('HSPA1A', 0.0008349258569069207), ('IFI27', 0.0008323590736836195), ('RGS1', 0.0008271716069430113), ('CCL4', 0.0008094363147392869), ('WFDC21P', 0.00080438784789294), ('MTND4P12', 0.000787730619776994), ('MIR4435-2HG', 0.0007734762039035559), ('PARP16', 0.0007534496835432947), ('SLC27A4', 0.0007511505391448736), ('LINC02384', 0.0007421078043989837), ('ITM2C', 0.0007147756405174732), ('G0S2', 0.0007030874257907271), ('AREG', 0.0006938964943401515), ('SLPI', 0.0006904746987856925), ('CEMIP2', 0.0006902704481035471), ('MTCO1P40', 0.0006851183134131134), ('NDUFAF6', 0.0006796677480451763), ('ERN1', 0.000675448274705559), ('GK', 0.000663691374938935), ('TSC22D3', 0.0006455556722357869), ('SMAP2', 0.0006437510019168258), ('CNOT6L', 0.0006428154883906245), ('FN1', 0.0006382287247106433), ('IGLC3', 0.0006219581118784845), ('PLCG2', 0.0005994269158691168), ('HIST1H4C', 0.000596574682276696), ('GNG7', 0.0005845432169735432), ('TBC1D9', 0.0005809637368656695), ('IGLL5', 0.0005778089980594814), ('ABCA1', 0.000572327699046582), ('CROCC', 0.0005714554572477937), ('IL1B', 0.0005684973439201713), ('HSPA1B', 0.0005642269970849156), ('ISG20', 0.000563155859708786), ('ENSG00000276476', 0.0005436507053673267), ('POU2AF1', 0.0005398155190050602), ('ENSG00000254698', 0.0005382193485274911), ('ENSG00000224467', 0.0005361367948353291), ('RNU2-63P', 0.000534695340320468), ('PIK3C2B', 0.0005330296116881073), ('CMSS1', 0.0005242282641120255), ('CRADD', 0.0004994189948774874), ('RNF144B', 0.0004956037155352533), ('SLC2A3', 0.0004948152345605195), ('CCDC144B', 0.0004920082865282893), ('BFSP2', 0.0004899174673482776), ('EIF2AK3', 0.0004869945114478469), ('SPP1', 0.0004854649887420237), ('TNFAIP3', 0.0004845141666010022), ('TENT5C', 0.0004836884618271142), ('IFI6', 0.0004731741501018405), ('ENSG00000276085', 0.00045974820386618376), ('SQSTM1', 0.00044995680218562484), ('ENSG00000279483', 0.0004497831396292895), ('CRYBG1', 0.00044303934555500746), ('LINC00513', 0.00044258928392082453), ('TTTY14', 0.00044053420424461365), ('ATP2B1', 0.0004390018875710666), ('RHOH', 0.0004380912578199059), ('UAP1', 0.0004339343577157706), ('BCAS2', 0.00043352378997951746), ('PTPN1', 0.0004270526405889541), ('FOXO1', 0.0004231685888953507), ('FNBP1', 0.0004215952940285206), ('ACSL4', 0.0004144111298955977), ('ID2', 0.00041263969615101814), ('CCL4L2', 0.0004122881218791008), ('JUN', 0.000409997213864699), ('ZFP36L2', 0.000409164116717875), ('IFNG-AS1', 0.00040780764538794756), ('ENSG00000237499', 0.00040597733459435403), ('MCF2L2', 0.00040590239223092794), ('TBCEL', 0.000404650199925527), ('STAT4', 0.0003990131663158536), ('ZFP36', 0.00039899226976558566), ('SAA1', 0.0003982691268902272), ('NFKB1', 0.0003965950454585254), ('CD69', 0.0003955802822019905), ('SLC2A5', 0.0003945531789213419), ('CXCR4', 0.0003908535873051733), ('PIM2', 0.0003906759084202349)], 1: [('IGLL5', 0.40197211503982544), ('IGHD', 0.08741306513547897), ('IGHM', 0.06906742602586746), ('JCHAIN', 0.04789167642593384), ('HBA2', 0.02901880256831646), ('HBB', 0.02871096134185791), ('HBA1', 0.01396996807307005), ('IGHA1', 0.006661552470177412), ('MZB1', 0.004198487848043442), ('IGLC2', 0.0030635588336735964), ('IGLC3', 0.0024069419596344233), ('SPP1', 0.0015061848098412156), ('S100A2', 0.001293959910981357), ('IFI27', 0.001273664296604693), ('DERL3', 0.0009193493169732392), ('ENSG00000263574', 0.0008992236107587814), ('FN1', 0.0007077433401718736), ('GK', 0.0006742324912920594), ('SFTPA1', 0.000630361377261579), ('NUPR1', 0.0006077684811316431), ('SFTPA2', 0.0005978274857625365), ('IFI6', 0.0005971269565634429), ('ATF6', 0.0005766590475104749), ('CA1', 0.0005620172014459968), ('HSPA1A', 0.0005332749569788575), ('TIMP1', 0.0005161493318155408), ('ST6GAL1', 0.0004905005916953087), ('BCAS2', 0.00048787056584842503), ('THBS1', 0.0004860044864472002), ('IGHA2', 0.00048474359209649265), ('CCL4L2', 0.00048065162263810635), ('EREG', 0.0004772449319716543), ('TEX14', 0.00046708257286809385), ('ANKRD28', 0.0004657788958866149), ('HSPA1B', 0.0004540326481219381), ('CNOT6L', 0.00045013029011897743), ('PDK4', 0.00044350267853587866), ('CD79A', 0.00044334036647342145), ('MCF2L2', 0.00043456832645460963), ('CTSL', 0.00041971399332396686), ('PELI1', 0.000418301293393597), ('IL1B', 0.000413623551139608), ('CAMP', 0.0004081015067640692), ('IL1R2', 0.0004063539090566337), ('PITPNC1', 0.00040619971696287394), ('ABCA1', 0.00040451213135384023), ('CCL20', 0.00040375959360972047), ('PSME4', 0.0004020629858132452), ('SYTL3', 0.0003941357135772705), ('TSC22D3', 0.00038860077620483935), ('ISG20', 0.0003800119739025831), ('PID1', 0.00037968679680489004), ('TNFAIP3', 0.0003746595175471157), ('FYN', 0.00036973413079977036), ('FOXO1', 0.0003683320537675172), ('HMOX1', 0.0003658377390820533), ('ABTB2', 0.0003634933673311025), ('ATP10A', 0.0003587803221307695), ('CXCR4', 0.00035507132997736335), ('ENSG00000239268', 0.0003443849564064294), ('PPP2R5C', 0.0003440814616624266), ('VCAN', 0.0003394483064766973), ('PFAS', 0.00033893997897394), ('ENSG00000279483', 0.000338367564836517), ('CCL4', 0.0003310749016236514), ('TTC39B', 0.00033106908085756004), ('NKG7', 0.00032708520302549005), ('S100A12', 0.0003264864208176732), ('GNG7', 0.000325126777170226), ('HIST1H2AC', 0.00032289334922097623), ('LINC02154', 0.0003183609223924577), ('APOC4-APOC2', 0.00031634909100830555), ('SCD', 0.00031177440541796386), ('SMAP2', 0.0003106027434114367), ('HSPD1', 0.0003101880429312587), ('TXNDC5', 0.00030494618113152683), ('JUN', 0.00030144440825097263), ('SMCHD1', 0.0002987041953019798), ('MTND4P12', 0.000295871461275965), ('GNLY', 0.0002903738641180098), ('TPD52', 0.00028867291985079646), ('HIST1H2BD', 0.0002860196982510388), ('ZFP36', 0.0002817290078382939), ('CYTOR', 0.00028018723241984844), ('G0S2', 0.00027931813383474946), ('ENSG00000257221', 0.0002792293089441955), ('RGS1', 0.0002782298834063113), ('FNDC3A', 0.00027813244378194213), ('CD27', 0.000275724712992087), ('GNG2', 0.00027434693765826523), ('PTPN1', 0.0002734268200583756), ('SLC2A3', 0.000272429664619267), ('EXOC7', 0.0002713366993702948), ('PTPRJ', 0.00026986165903508663), ('ENSG00000276085', 0.00026657365378923714), ('IQCG', 0.0002638798614498228), ('CDC42SE2', 0.00026144017465412617), ('CBLB', 0.00025885930517688394), ('PLCG2', 0.0002563991001807153), ('CCND3', 0.0002560238935984671)], 21: [('NXN', 0.015383796766400337), ('LRRIQ1', 0.010024253278970718), ('PELI1', 0.009796127676963806), ('C9orf24', 0.009536195546388626), ('CLDN5', 0.009509698487818241), ('FXYD3', 0.009136698208749294), ('DNAH12', 0.009026879444718361), ('HIST1H2BD', 0.008937367238104343), ('P4HA1', 0.00857592187821865), ('AREG', 0.0077209994196891785), ('GPAT3', 0.006989178713411093), ('LGR4', 0.006809840444475412), ('RAMP2', 0.006797443144023418), ('RSPH1', 0.006663659121841192), ('FAM117B', 0.006493611726909876), ('SLC9A3R2', 0.006314101163297892), ('ENSG00000255308', 0.005933917593210936), ('SYNE2', 0.005706020165234804), ('CFAP299', 0.005612106528133154), ('KIAA1671', 0.005572534166276455), ('DYNLRB2', 0.005559402052313089), ('CCDC181', 0.005134908482432365), ('DNAI2', 0.0050251679494977), ('ENSG00000237499', 0.004887895658612251), ('ALOX15', 0.004842767026275396), ('FBXO32', 0.0048355101607739925), ('SCGB2A1', 0.004752711858600378), ('RIIAD1', 0.004672711249440908), ('TUBA4B', 0.00460967468097806), ('TACC2', 0.004446802195161581), ('ENSG00000261130', 0.0044259256683290005), ('CRYBG1', 0.0044159069657325745), ('CROCC2', 0.004360207822173834), ('FXYD1', 0.004325686022639275), ('MAATS1', 0.004312295001000166), ('CAPS', 0.004284785594791174), ('CFAP43', 0.004259725101292133), ('EFHC1', 0.0042441729456186295), ('C6orf48', 0.004167311824858189), ('ENAH', 0.004045212175697088), ('PTPRU', 0.003990597557276487), ('CDON', 0.003984295297414064), ('CFAP69', 0.003942206501960754), ('CST6', 0.003910992294549942), ('GOLGA2P10', 0.0038591863121837378), ('PLLP', 0.0038219464477151632), ('ID3', 0.00378011679276824), ('ENSG00000253295', 0.0037363881710916758), ('LRIG1', 0.003734965343028307), ('RNF19A', 0.0037003818433731794), ('DNAH6', 0.003638776019215584), ('MPDZ', 0.0036268322728574276), ('FGFR2', 0.003604175755754113), ('ENSG00000258752', 0.0035427387338131666), ('ITGA2', 0.003516689408570528), ('CCDC134', 0.003514824900776148), ('UBE2Q2P2', 0.003423301037400961), ('SLC9A3-AS1', 0.0033978719729930162), ('SPAG1', 0.0033666088711470366), ('HIP1', 0.003341666189953685), ('JADE1', 0.0033249505795538425), ('RFX3', 0.003312735352665186), ('DTHD1', 0.003253889037296176), ('SYT8', 0.003224740270525217), ('SPAG17', 0.0032221698202192783), ('MYO5C', 0.003170801792293787), ('ULK4', 0.0031661037355661392), ('PGAP1', 0.003160720458254218), ('PGM2L1', 0.0031576722394675016), ('USP31', 0.0031385791953653097), ('FANK1', 0.003136590588837862), ('THBS1', 0.0030510348733514547), ('CFAP47', 0.0030315935146063566), ('IL7', 0.0030118520371615887), ('MCTP1', 0.00298495520837605), ('GALM', 0.0029532243497669697), ('AGBL4', 0.0029488184954971075), ('CD164L2', 0.0029115835204720497), ('IKZF2', 0.0028874522540718317), ('C20orf85', 0.002883695997297764), ('JUP', 0.0028828145004808903), ('SLC22A23', 0.0028687026351690292), ('C6orf118', 0.0028443450573831797), ('DOC2A', 0.0027990371454507113), ('PKIB', 0.002792988670989871), ('DNAAF1', 0.002783465199172497), ('LINC02066', 0.002775308908894658), ('EVA1C', 0.0027354625053703785), ('FRMPD2', 0.002714544301852584), ('LRRC46', 0.0026907999999821186), ('COBLL1', 0.002681389916688204), ('DNAH3', 0.002644066931679845), ('CFAP58', 0.0026434273459017277), ('SAMD12', 0.002618862548843026), ('CFAP300', 0.0025744603481143713), ('ZNF19', 0.00253885961137712), ('WWTR1', 0.0025069538969546556), ('RAMP3', 0.0024871102068573236), ('CEMIP2', 0.002468711230903864), ('BCL11A', 0.0024566364008933306)], 23: [('PAX3', 0.06102314591407776), ('MAP3K12', 0.03088175319135189), ('MED12L', 0.029530739411711693), ('ACVR2B', 0.02850363776087761), ('EDNRA', 0.027517473325133324), ('NFIA', 0.01670089177787304), ('UMODL1', 0.016466015949845314), ('DCDC2C', 0.016338510438799858), ('ALG1', 0.013539671897888184), ('GFRA2', 0.013024811632931232), ('LNX2', 0.01179440412670374), ('ADAMTS7P4', 0.009889817796647549), ('MSC-AS1', 0.009856032207608223), ('NRG3', 0.008519547060132027), ('GRM8', 0.008191009052097797), ('MAST4', 0.007401065435260534), ('TMEM232', 0.006939196027815342), ('STOX2', 0.006678374484181404), ('LINC01091', 0.006594719830900431), ('DIRC3', 0.006531205028295517), ('GRIN2B', 0.006317310035228729), ('LRRC49', 0.006304061971604824), ('ENSG00000278139', 0.006296643987298012), ('FGFR1', 0.006253127474337816), ('IMMP2L', 0.00594028877094388), ('ADGRL3', 0.005885592196136713), ('CEMIP', 0.005590139422565699), ('PTPRQ', 0.005486757028847933), ('KCNQ5', 0.005464323330670595), ('FSTL4', 0.00529469083994627), ('FAM182B', 0.005226766690611839), ('KRTAP5-AS1', 0.00515369838103652), ('CFH', 0.004821383859962225), ('SUGCT', 0.0047893282026052475), ('PLEKHG1', 0.004719622433185577), ('TMEM108', 0.004660692531615496), ('MDGA1', 0.004652207251638174), ('CTTNBP2', 0.004641206469386816), ('ACTG2', 0.004636097699403763), ('CASC15', 0.004590343218296766), ('ENSG00000231252', 0.004582382272928953), ('PRKAR2B', 0.0045147002674639225), ('ST3GAL3', 0.004497894551604986), ('CACNA1C', 0.004475345369428396), ('GPC3', 0.004449019208550453), ('DLGAP2', 0.004423502832651138), ('LINC01550', 0.004401689860969782), ('ST6GALNAC5', 0.004379560239613056), ('IL31RA', 0.0043397387489676476), ('PLCB4', 0.004316546022891998), ('CHN1', 0.004313819110393524), ('DPT', 0.004299823194742203), ('PRDM6', 0.0041506183333694935), ('EGFEM1P', 0.00413656048476696), ('GRHL2', 0.004074459429830313), ('EXOC7', 0.004028047900646925), ('TBX21', 0.003961321897804737), ('NEXMIF', 0.003926214762032032), ('EYA4', 0.003922830801457167), ('APBA2', 0.0038891236763447523), ('INMT', 0.003783030668273568), ('COL23A1', 0.0037553971633315086), ('CHRDL1', 0.003754864213988185), ('CREB5', 0.0037544844672083855), ('KIRREL3', 0.0037455533165484667), ('AFF2', 0.0037405204493552446), ('TENM1', 0.003630957333371043), ('LINC01237', 0.0036229852121323347), ('MELTF', 0.0035870366264134645), ('CLSTN2', 0.003451480297371745), ('MAP2', 0.0034076888114213943), ('SHISA9', 0.003368539270013571), ('LMX1A', 0.003322731703519821), ('PALLD', 0.0033212110865861177), ('ST8SIA1', 0.003267232095822692), ('HSPA12A', 0.0032635561656206846), ('GPC5', 0.0032634567469358444), ('BCL7A', 0.0032596688251942396), ('NHS', 0.0032039619982242584), ('PLXNA4', 0.003197397105395794), ('PTPRD', 0.0031683840788900852), ('GPM6A', 0.003162652486935258), ('KANK3', 0.0031239325180649757), ('DSCAML1', 0.003121437504887581), ('SPAG17', 0.0031132958829402924), ('LINC01579', 0.0030989544466137886), ('XKR6', 0.0030900374986231327), ('CYSLTR2', 0.0030829112511128187), ('CACNA2D2', 0.003074557986110449), ('NPAS3', 0.003037329763174057), ('SLC24A3', 0.002991617191582918), ('PREP', 0.002985744969919324), ('CRMP1', 0.002983637386932969), ('PGM5P3-AS1', 0.002977993804961443), ('VWA3B', 0.002969474298879504), ('ABCC4', 0.0029331159312278032), ('FGF13', 0.0029317743610590696), ('SBSPON', 0.002916377503424883), ('LINGO2', 0.002914756303653121), ('PDE7B', 0.0028974697925150394)], 22: [('ENSG00000224063', 0.03711703419685364), ('CNTN4', 0.02508271113038063), ('PLPP4', 0.019328080117702484), ('LINC02398', 0.019225463271141052), ('PROX1-AS1', 0.018182802945375443), ('RNF165', 0.017181644216179848), ('LRP4', 0.01705756224691868), ('PRMT8', 0.01624746061861515), ('ENSG00000230286', 0.015480920672416687), ('DPY19L2', 0.015400776639580727), ('ENSG00000230333', 0.015343092381954193), ('PDE1C', 0.015115844085812569), ('KCNN3', 0.014986248686909676), ('ENSG00000229212', 0.014741171151399612), ('RCAN2', 0.014640460722148418), ('QRICH2', 0.014263071119785309), ('TNFRSF8', 0.014242409728467464), ('DAB2IP', 0.0139197101816535), ('SCN8A', 0.013850781135261059), ('LINC01482', 0.013820372521877289), ('MEF2C-AS1', 0.01376234833151102), ('SLC8A2', 0.01367715373635292), ('GRIK4', 0.01358276791870594), ('CCDC60', 0.013178503140807152), ('ENSG00000275443', 0.013176003471016884), ('TOGARAM2', 0.013133798725903034), ('DLG5', 0.013124764896929264), ('OPRM1', 0.013055766932666302), ('ZNF608', 0.013004735112190247), ('PTGIS', 0.01288350485265255), ('ENSG00000256995', 0.012860684655606747), ('FGFR2', 0.01285841129720211), ('VWA3A', 0.012795371934771538), ('LINC02241', 0.012710945680737495), ('PIEZO2', 0.012588509358465672), ('MYH11', 0.012449529021978378), ('DNAH10', 0.01235236506909132), ('CRACR2A', 0.012297440320253372), ('MIPOL1', 0.012252871878445148), ('SLC4A4', 0.012220144271850586), ('SPAG6', 0.011928200721740723), ('SPTBN4', 0.011926477774977684), ('ENSG00000256150', 0.011778305284678936), ('ENTPD7', 0.011567637324333191), ('NAV3', 0.011565059423446655), ('LINC00862', 0.0114055797457695), ('TNC', 0.01121737714856863), ('CFAP47', 0.01094149798154831), ('ADAMTS6', 0.010652657598257065), ('SRP54-AS1', 0.010439355857670307), ('BANK1', 0.010369721800088882), ('ENSG00000228412', 0.01029161922633648), ('ANK2', 0.010137633420526981), ('CNNM4', 0.010014986619353294), ('ADGRV1', 0.009946545585989952), ('THRB', 0.009917095303535461), ('RFX3-AS1', 0.009387655183672905), ('RUBCNL', 0.009298644959926605), ('MIR222HG', 0.009096530266106129), ('ZFPM2', 0.009092212654650211), ('PTPN14', 0.008910337463021278), ('PPFIBP1', 0.008859804831445217), ('ENSG00000271913', 0.008550994098186493), ('P2RY8', 0.008528616279363632), ('KCNN4', 0.008272858336567879), ('ABLIM1', 0.00827015470713377), ('ST6GAL1', 0.008198743686079979), ('PLCL1', 0.007857385091483593), ('LIMCH1', 0.007278434466570616), ('KIAA1217', 0.007215556222945452), ('ENSG00000280441', 0.006924164481461048), ('GCNT2', 0.006658934056758881), ('PGC', 0.006435630843043327), ('CCDC6', 0.006333647295832634), ('GRAMD1B', 0.00602712482213974), ('RFX3', 0.005733022931963205), ('PIK3R1', 0.005625764839351177), ('CDK19', 0.00531401950865984), ('RALGAPA1', 0.004687394015491009), ('BCAT1', 0.0041657122783362865), ('PCSK5', 0.004128384403884411), ('SASH1', 0.004121988080441952), ('MB21D2', 0.004087802954018116), ('GAS7', 0.00399246159940958), ('EXT1', 0.0037479589227586985), ('SOCS3', 0.0032939997036010027), ('PRKCB', 0.0031922892667353153), ('C15orf48', 0.003016209462657571), ('ITGAX', 0.001161230611614883), ('SYTL3', 0.0008036301587708294), ('ENSG00000269237', 3.3552362310729222e-06), ('KLHL32', 3.3552362310729222e-06), ('ENSG00000245648', 3.3552362310729222e-06), ('SHISAL2A', 3.3552362310729222e-06), ('ENSG00000256690', 3.3552362310729222e-06), ('SLC28A1', 3.3552362310729222e-06), ('AQP4', 3.3552362310729222e-06), ('KHDC1', 3.3552362310729222e-06), ('GALNT15', 3.3552362310729222e-06), ('SCRG1', 3.3552362310729222e-06)], 20: [('ARHGAP12', 0.046747926622629166), ('HYDIN2', 0.031367965042591095), ('ENSG00000255745', 0.023206494748592377), ('SYT8', 0.022322477772831917), ('TNS4', 0.02224387228488922), ('NTNG2', 0.02179785817861557), ('ZNF507', 0.021789666265249252), ('ALLC', 0.021330084651708603), ('PLXNB1', 0.020690202713012695), ('CA4', 0.02068709023296833), ('LRP3', 0.020534439012408257), ('LGR6', 0.020474961027503014), ('JAM2', 0.0199317317456007), ('ADAMTS12', 0.019715767353773117), ('ENSG00000254024', 0.019506147131323814), ('DAW1', 0.018972141668200493), ('IL2RB', 0.01873527653515339), ('PXDN', 0.018683845177292824), ('LINC01088', 0.01768486015498638), ('ENSG00000253535', 0.01669803261756897), ('LINC02340', 0.016456807032227516), ('RAPGEFL1', 0.016341930255293846), ('TLL1', 0.016302956268191338), ('ISPD', 0.015850303694605827), ('EDIL3', 0.015604968182742596), ('PRELID2', 0.015465482138097286), ('SPATA6L', 0.015388727188110352), ('TSPOAP1-AS1', 0.01409193780273199), ('GYPA', 0.013890551403164864), ('BACE2', 0.01363175269216299), ('LINC02296', 0.013571697287261486), ('HIST2H4A', 0.013319496065378189), ('BMP1', 0.013196894899010658), ('ABCA5', 0.012943174690008163), ('CELSR1', 0.012938624247908592), ('CFAP43', 0.012927267700433731), ('EFHC1', 0.012880370952188969), ('IKZF3', 0.012877682223916054), ('C12orf75', 0.012782927602529526), ('GLDC', 0.012701486237347126), ('KIAA1671', 0.012626283802092075), ('NT5DC1', 0.012398794293403625), ('USF3', 0.0121065154671669), ('RBL1', 0.01208658516407013), ('CSGALNACT1', 0.011754236184060574), ('ETS1', 0.011357749812304974), ('LRIG1', 0.011344865895807743), ('DNAH6', 0.011054808273911476), ('CRYBG1', 0.011048689484596252), ('KLF12', 0.010890896432101727), ('ENSG00000256234', 0.010888161137700081), ('WWC1', 0.010575483553111553), ('LDB2', 0.010156272910535336), ('BBS9', 0.01006875466555357), ('CDC42EP4', 0.009965225122869015), ('TRERF1', 0.009584710001945496), ('BNC2', 0.009493539109826088), ('GNG7', 0.009186720475554466), ('MIR222HG', 0.008421187289059162), ('MAGI1', 0.006738386582583189), ('ADD3', 0.006684944033622742), ('TBL1X', 0.006680225487798452), ('INPP5A', 0.006648495327681303), ('PAM', 0.006637720391154289), ('SRGAP1', 0.005517732817679644), ('CDH23', 0.005294951144605875), ('MTSS1', 0.004972647875547409), ('TEX14', 0.0021017934195697308), ('SHISA9', 4.029524916404625e-06), ('SHISAL2A', 4.029524916404625e-06), ('GALNT15', 4.029524916404625e-06), ('PTPRU', 4.029524916404625e-06), ('NOS1', 4.029524916404625e-06), ('FAM169A', 4.029524916404625e-06), ('ENSG00000250027', 4.029524916404625e-06), ('FAM171A1', 4.029524916404625e-06), ('SV2B', 4.029524916404625e-06), ('CLK2', 4.029524916404625e-06), ('CDON', 4.029524916404625e-06), ('EHD2', 4.029524916404625e-06), ('PRELP', 4.029524916404625e-06), ('LINC00271', 4.029524916404625e-06), ('ZNF367', 4.029524916404625e-06), ('RNU1-1', 4.029524916404625e-06), ('VNN1', 4.029524916404625e-06), ('IL33', 4.029524916404625e-06), ('SDC1', 4.029524916404625e-06), ('RIC3', 4.029524916404625e-06), ('SULF1', 4.029524916404625e-06), ('FAM189A2', 4.029524916404625e-06), ('KANK2', 4.029524916404625e-06), ('ENSG00000284681', 4.029524916404625e-06), ('ZNF460', 4.029524916404625e-06), ('ANKRD55', 4.029524916404625e-06), ('ANKRD46', 4.029524916404625e-06), ('GARNL3', 4.029524916404625e-06), ('ENSG00000226526', 4.029524916404625e-06), ('AQP4', 4.029524916404625e-06), ('ENSG00000228113', 4.029524916404625e-06), ('RSAD2', 4.029524916404625e-06)], 25: [('CDH5', 0.07668173313140869), ('ENSG00000250869', 0.053259965032339096), ('CD160', 0.04816629737615585), ('POLR2F', 0.04689306765794754), ('PAX3', 0.04517640918493271), ('NUAK1', 0.03837934136390686), ('ENSG00000248774', 0.03799896314740181), ('GAS1', 0.037923555821180344), ('RAI2', 0.03638870269060135), ('GRAP', 0.036176685243844986), ('ITGA2B', 0.03471711277961731), ('FAM83D', 0.03260999172925949), ('ITGBL1', 0.03220437094569206), ('LINC01098', 0.030285188928246498), ('SCGB2A1', 0.02985897660255432), ('IL18RAP', 0.02956657111644745), ('ENSG00000223561', 0.027506429702043533), ('RORB', 0.02728918008506298), ('PTPRQ', 0.025396402925252914), ('BEX5', 0.02200866863131523), ('RNF144A', 0.02127288654446602), ('ENKUR', 0.019911257550120354), ('EVC2', 0.019501574337482452), ('RCAN2', 0.013947290368378162), ('SH2D2A', 0.012733972631394863), ('FAM189A2', 0.00994118582457304), ('ENSG00000228863', 0.00945211574435234), ('ZNF34', 0.008638100698590279), ('DOK6', 0.0070983306504786015), ('MORN1', 0.006779971532523632), ('APBB1', 0.006547479424625635), ('MINOS1-NBL1', 0.0027747591957449913), ('LINC01476', 8.636612619739026e-05), ('ENSG00000250027', 2.587777271401137e-05), ('ZNF460', 2.587777271401137e-05), ('IL33', 2.587777271401137e-05), ('ENSG00000238009', 2.587777271401137e-05), ('CGN', 2.587777271401137e-05), ('CRTC3-AS1', 2.587777271401137e-05), ('ZNF367', 2.587777271401137e-05), ('LINC00271', 2.587777271401137e-05), ('FAM171A1', 2.587777271401137e-05), ('MGAM', 2.587777271401137e-05), ('ANKRD55', 2.587777271401137e-05), ('NOS1', 2.587777271401137e-05), ('ESR2', 2.587777271401137e-05), ('GGNBP1', 2.587777271401137e-05), ('ENSG00000228113', 2.587777271401137e-05), ('ENSG00000245648', 2.587777271401137e-05), ('PTPRU', 2.587777271401137e-05), ('EHD2', 2.587777271401137e-05), ('SULF1', 2.587777271401137e-05), ('KANK2', 2.587777271401137e-05), ('ENSG00000284681', 2.587777271401137e-05), ('ANKRD46', 2.587777271401137e-05), ('ENSG00000226526', 2.587777271401137e-05), ('GNAI1', 2.587777271401137e-05), ('ENSG00000278743', 2.587777271401137e-05), ('HAS2', 2.587777271401137e-05), ('C4B', 2.587777271401137e-05), ('GRM8', 2.587777271401137e-05), ('PLIN5', 2.587777271401137e-05), ('KRT17', 2.587777271401137e-05), ('IDO1', 2.587777271401137e-05), ('LINC01060', 2.587777271401137e-05), ('DOK7', 2.587777271401137e-05), ('ENSG00000236947', 2.587777271401137e-05), ('CCL22', 2.587777271401137e-05), ('HABP4', 2.587777271401137e-05), ('CDON', 2.587777271401137e-05), ('SNCG', 2.587777271401137e-05), ('RIC3', 2.587777271401137e-05), ('NIM1K', 2.587777271401137e-05), ('SDC1', 2.587777271401137e-05), ('GARNL3', 2.587777271401137e-05), ('RSAD2', 2.587777271401137e-05), ('C9orf41-AS1', 2.587777271401137e-05), ('C3orf33', 2.587777271401137e-05), ('TESC', 2.587777271401137e-05), ('ENSG00000274767', 2.587777271401137e-05), ('ENSG00000231621', 2.587777271401137e-05), ('SHISA9', 2.587777271401137e-05), ('SV2B', 2.587777271401137e-05), ('ENSG00000282988', 2.587777271401137e-05), ('JAM3', 2.587777271401137e-05), ('C2orf40', 2.587777271401137e-05), ('ENSG00000256690', 2.587777271401137e-05), ('VSTM2L', 2.587777271401137e-05), ('GHR', 2.587777271401137e-05), ('ENSG00000235837', 2.587777271401137e-05), ('SPON1', 2.587777271401137e-05), ('RELN', 2.587777271401137e-05), ('MYEF2', 2.587777271401137e-05), ('ENSG00000233926', 2.587777271401137e-05), ('FBLIM1', 2.587777271401137e-05), ('CRYAB', 2.587777271401137e-05), ('ATG4D', 2.587777271401137e-05), ('CLDN1', 2.587777271401137e-05), ('PREX2', 2.587777271401137e-05), ('NR5A2', 2.587777271401137e-05)], 24: [('CD320', 0.2183154821395874), ('GFI1', 0.10127377510070801), ('GSEC', 0.08531461656093597), ('CNTNAP3B', 0.08280493319034576), ('PTGIR', 0.06299484521150589), ('LINC00861', 0.056557249277830124), ('PRR19', 0.0500008724629879), ('C21orf91', 0.0481235533952713), ('TENM1', 0.0475899875164032), ('IQCA1', 0.043975867331027985), ('NBEAL2', 0.02618291974067688), ('HYAL2', 0.002397105097770691), ('GGNBP1', 3.982397174695507e-05), ('PTPRU', 3.982397174695507e-05), ('SULF1', 3.982397174695507e-05), ('KANK2', 3.982397174695507e-05), ('ENSG00000284681', 3.982397174695507e-05), ('NOS1', 3.982397174695507e-05), ('ENSG00000250027', 3.982397174695507e-05), ('ANKRD55', 3.982397174695507e-05), ('FAM171A1', 3.982397174695507e-05), ('ANKRD46', 3.982397174695507e-05), ('LINC00271', 3.982397174695507e-05), ('ZNF367', 3.982397174695507e-05), ('FAM169A', 3.982397174695507e-05), ('TNFRSF8', 3.982397174695507e-05), ('SCRG1', 3.982397174695507e-05), ('COL5A2', 3.982397174695507e-05), ('VNN1', 3.982397174695507e-05), ('RNU1-1', 3.982397174695507e-05), ('PRELP', 3.982397174695507e-05), ('EHD2', 3.982397174695507e-05), ('CLK2', 3.982397174695507e-05), ('ENSG00000228113', 3.982397174695507e-05), ('GALNT15', 3.982397174695507e-05), ('AQP4', 3.982397174695507e-05), ('SLC28A1', 3.982397174695507e-05), ('SHISAL2A', 3.982397174695507e-05), ('ENSG00000245648', 3.982397174695507e-05), ('CRTC3-AS1', 3.982397174695507e-05), ('ESR2', 3.982397174695507e-05), ('KHDC1', 3.982397174695507e-05), ('SNCG', 3.982397174695507e-05), ('C4B', 3.982397174695507e-05), ('HAS2', 3.982397174695507e-05), ('ENSG00000278743', 3.982397174695507e-05), ('CGN', 3.982397174695507e-05), ('GNAI1', 3.982397174695507e-05), ('DOK7', 3.982397174695507e-05), ('CCL22', 3.982397174695507e-05), ('HABP4', 3.982397174695507e-05), ('GRM8', 3.982397174695507e-05), ('NIM1K', 3.982397174695507e-05), ('SDC1', 3.982397174695507e-05), ('C3orf33', 3.982397174695507e-05), ('TESC', 3.982397174695507e-05), ('ENSG00000274767', 3.982397174695507e-05), ('ENSG00000238009', 3.982397174695507e-05), ('MGAM', 3.982397174695507e-05), ('TDRP', 3.982397174695507e-05), ('FAM189A2', 3.982397174695507e-05), ('ZNF460', 3.982397174695507e-05), ('CDON', 3.982397174695507e-05), ('SV2B', 3.982397174695507e-05), ('SHISA9', 3.982397174695507e-05), ('ENSG00000231621', 3.982397174695507e-05), ('C9orf41-AS1', 3.982397174695507e-05), ('RSAD2', 3.982397174695507e-05), ('GARNL3', 3.982397174695507e-05), ('IL33', 3.982397174695507e-05), ('RIC3', 3.982397174695507e-05), ('ENSG00000226526', 3.982397174695507e-05), ('ENSG00000236947', 3.982397174695507e-05), ('LINC01060', 3.982397174695507e-05), ('IDO1', 3.982397174695507e-05), ('KRT17', 3.982397174695507e-05), ('PLIN5', 3.982397174695507e-05), ('ICAM2', 3.982397174695507e-05), ('OLFML3', 3.982397174695507e-05), ('TRAT1', 3.982397174695507e-05), ('DPF3', 3.982397174695507e-05), ('ZNF211', 3.982397174695507e-05), ('ENSG00000258561', 3.982397174695507e-05), ('ENSG00000254363', 3.982397174695507e-05), ('GPR39', 3.982397174695507e-05), ('ENSG00000257156', 3.982397174695507e-05), ('SHC3', 3.982397174695507e-05), ('ENSG00000197585', 3.982397174695507e-05), ('HIST1H2BJ', 3.982397174695507e-05), ('MYEF2', 3.982397174695507e-05), ('JAM3', 3.982397174695507e-05), ('C2orf40', 3.982397174695507e-05), ('ENSG00000256690', 3.982397174695507e-05), ('VSTM2L', 3.982397174695507e-05), ('GHR', 3.982397174695507e-05), ('SNAI1', 3.982397174695507e-05), ('ENSG00000284052', 3.982397174695507e-05), ('GRIK2', 3.982397174695507e-05), ('GFRA2', 3.982397174695507e-05), ('SLC25A21', 3.982397174695507e-05)]}\n"
     ]
    }
   ],
   "source": [
    "print(topic)"
   ]
  },
  {
   "cell_type": "code",
   "execution_count": 21,
   "id": "5d0db29f",
   "metadata": {},
   "outputs": [
    {
     "name": "stdout",
     "output_type": "stream",
     "text": [
      "[0, 1, 2, 3, 4, 5, 6, 7, 8, 9, 10, 11, 12, 13, 14, 15, 16, 17, 18, 19, 20, 21, 22, 23, 24, 25]\n",
      "26\n"
     ]
    }
   ],
   "source": [
    "tops = sorted(topic.keys())\n",
    "print(tops)\n",
    "print(len(tops))"
   ]
  },
  {
   "cell_type": "code",
   "execution_count": 24,
   "id": "4906e480",
   "metadata": {},
   "outputs": [],
   "source": [
    "doc_topic_distr = []\n",
    "for doc in hdp.docs:\n",
    "    #print(len(doc.get_topic_dist()))\n",
    "    doc_topic_distr.append(doc.get_topic_dist()[tops])"
   ]
  },
  {
   "cell_type": "code",
   "execution_count": 25,
   "id": "7d47cace",
   "metadata": {},
   "outputs": [
    {
     "name": "stdout",
     "output_type": "stream",
     "text": [
      "defaultdict(<class 'int'>, {14: 1309, 6: 28114, 0: 11678, 10: 42581, 9: 1108, 11: 1612, 2: 2459, 12: 1348, 8: 627, 3: 1385, 1: 109, 16: 1222, 19: 274, 7: 155, 17: 107, 15: 1059, 13: 78, 5: 401, 18: 74, 4: 599, 23: 3, 21: 1})\n"
     ]
    }
   ],
   "source": [
    "from collections import defaultdict\n",
    "most_common_ep = defaultdict(int)\n",
    "for topic_dist in doc_topic_distr:\n",
    "    max_topic = np.argmax(topic_dist)\n",
    "    #print(max_topic)\n",
    "    most_common_ep[max_topic] += 1\n",
    "print(most_common_ep)"
   ]
  },
  {
   "cell_type": "code",
   "execution_count": 32,
   "id": "9c79be7d",
   "metadata": {},
   "outputs": [],
   "source": [
    "import scanpy as sc"
   ]
  },
  {
   "cell_type": "code",
   "execution_count": 33,
   "id": "89844f0e",
   "metadata": {},
   "outputs": [
    {
     "name": "stdout",
     "output_type": "stream",
     "text": [
      "AnnData object with n_obs × n_vars = 96303 × 38712\n",
      "    obs: 'cell_type_category', 'manuscript_id', 'subclass_id', 'disease', 'subject_id', 'age', 'n_genes'\n",
      "    var: 'HGNC_Alt_GeneID', 'n_cells'\n"
     ]
    }
   ],
   "source": [
    "adata = sc.read_h5ad('control_annotated_data.h5ad')\n",
    "sc.pp.filter_cells(adata, min_genes=100, inplace=True)\n",
    "sc.pp.filter_genes(adata, min_cells=3, inplace=True)\n",
    "print(adata)"
   ]
  },
  {
   "cell_type": "code",
   "execution_count": 34,
   "id": "4ce13b2c",
   "metadata": {},
   "outputs": [],
   "source": [
    "cell_category = list(adata.obs['cell_type_category'])\n",
    "cell_type_labels = list(adata.obs['manuscript_id'])"
   ]
  },
  {
   "cell_type": "code",
   "execution_count": null,
   "id": "7c435cf2",
   "metadata": {},
   "outputs": [],
   "source": [
    "for i in range(len(doc_topic_distr)):\n",
    "    if labels[i] == 'endocrine precursors':\n",
    "        topic_dist = doc_topic_distr[i]\n",
    "        max_topic = np.argmax(topic_dist)\n",
    "        max_prob = np.max(topic_dist)\n",
    "        print(max_topic, max_prob)\n",
    "\n",
    "genes = []\n",
    "s = 0\n",
    "for gene, freq in topic[0]:\n",
    "    s += freq\n",
    "    genes.append(gene)\n",
    "\n",
    "print(genes)\n",
    "print(s)"
   ]
  },
  {
   "cell_type": "code",
   "execution_count": 35,
   "id": "4db27227",
   "metadata": {},
   "outputs": [],
   "source": [
    "cell_distr_df = pd.DataFrame(doc_topic_distr, index=cell_category)"
   ]
  },
  {
   "cell_type": "code",
   "execution_count": 44,
   "id": "724751dc",
   "metadata": {},
   "outputs": [],
   "source": [
    "grouped_distr = cell_distr_df.groupby(by=cell_distr_df.index).mean()"
   ]
  },
  {
   "cell_type": "code",
   "execution_count": 42,
   "id": "c79e7e5e",
   "metadata": {},
   "outputs": [],
   "source": [
    "import seaborn as sns"
   ]
  },
  {
   "cell_type": "code",
   "execution_count": 45,
   "id": "761632be",
   "metadata": {
    "scrolled": true
   },
   "outputs": [
    {
     "data": {
      "text/plain": [
       "<AxesSubplot:>"
      ]
     },
     "execution_count": 45,
     "metadata": {},
     "output_type": "execute_result"
    },
    {
     "data": {
      "image/png": "[encoded data removed]",
      "text/plain": [
       "<Figure size 1490.4x595.44 with 2 Axes>"
      ]
     },
     "metadata": {},
     "output_type": "display_data"
    }
   ],
   "source": [
    "sns.set(rc={'figure.figsize':(20.7,8.27)})\n",
    "sns.heatmap(grouped_distr)"
   ]
  },
  {
   "cell_type": "code",
   "execution_count": 46,
   "id": "f401cf42",
   "metadata": {},
   "outputs": [],
   "source": [
    "cell_distr_df = pd.DataFrame(doc_topic_distr, index=cell_type_labels)"
   ]
  },
  {
   "cell_type": "code",
   "execution_count": 47,
   "id": "3b430394",
   "metadata": {},
   "outputs": [],
   "source": [
    "grouped_distr = cell_distr_df.groupby(by=cell_distr_df.index).mean()"
   ]
  },
  {
   "cell_type": "code",
   "execution_count": 48,
   "id": "287377e0",
   "metadata": {},
   "outputs": [
    {
     "data": {
      "text/plain": [
       "<AxesSubplot:>"
      ]
     },
     "execution_count": 48,
     "metadata": {},
     "output_type": "execute_result"
    },
    {
     "data": {
      "image/png": "[encoded data removed]",
      "text/plain": [
       "<Figure size 1490.4x595.44 with 2 Axes>"
      ]
     },
     "metadata": {},
     "output_type": "display_data"
    }
   ],
   "source": [
    "sns.set(rc={'figure.figsize':(20.7,8.27)})\n",
    "sns.heatmap(grouped_distr)"
   ]
  },
  {
   "cell_type": "code",
   "execution_count": null,
   "id": "7651431f",
   "metadata": {},
   "outputs": [],
   "source": []
  }
 ],
 "metadata": {
  "kernelspec": {
   "display_name": "Python 3",
   "language": "python",
   "name": "python3"
  },
  "language_info": {
   "codemirror_mode": {
    "name": "ipython",
    "version": 3
   },
   "file_extension": ".py",
   "mimetype": "text/x-python",
   "name": "python",
   "nbconvert_exporter": "python",
   "pygments_lexer": "ipython3",
   "version": "3.8.8"
  }
 },
 "nbformat": 4,
 "nbformat_minor": 5
}
