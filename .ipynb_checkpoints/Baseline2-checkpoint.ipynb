{
 "cells": [
  {
   "cell_type": "code",
   "execution_count": null,
   "metadata": {},
   "outputs": [],
   "source": [
    "import scanpy as sc\n",
    "import pandas as pd\n",
    "from MulticoreTSNE import MulticoreTSNE as TSNE\n",
    "import matplotlib.pyplot as plt\n",
    "from sklearn.metrics.pairwise import euclidean_distances\n",
    "import numpy as np\n",
    "from sklearn.cluster import KMeans\n",
    "from sklearn.metrics import silhouette_samples, silhouette_score\n",
    "from scipy.stats import binom, norm\n",
    "from sklearn.metrics import jaccard_score\n",
    "from collections import OrderedDict"
   ]
  },
  {
   "cell_type": "code",
   "execution_count": null,
   "metadata": {},
   "outputs": [],
   "source": [
    "adata = sc.read_h5ad('control_annotated_data.h5ad')"
   ]
  },
  {
   "cell_type": "code",
   "execution_count": null,
   "metadata": {},
   "outputs": [],
   "source": [
    "print(adata)"
   ]
  },
  {
   "cell_type": "code",
   "execution_count": null,
   "metadata": {},
   "outputs": [],
   "source": [
    "sc.pp.filter_cells(adata, min_genes=100, inplace=True)"
   ]
  },
  {
   "cell_type": "code",
   "execution_count": null,
   "metadata": {},
   "outputs": [],
   "source": [
    "sc.pp.filter_genes(adata, min_cells=3, inplace=True)"
   ]
  },
  {
   "cell_type": "code",
   "execution_count": null,
   "metadata": {},
   "outputs": [],
   "source": [
    "sc.pp.normalize_total(adata, target_sum=1e4)"
   ]
  },
  {
   "cell_type": "code",
   "execution_count": null,
   "metadata": {},
   "outputs": [],
   "source": [
    "sc.pp.log1p(adata)"
   ]
  },
  {
   "cell_type": "code",
   "execution_count": null,
   "metadata": {},
   "outputs": [],
   "source": [
    "sc.pp.highly_variable_genes(adata, min_mean=0.0125, max_mean=3, min_disp=0.5)"
   ]
  },
  {
   "cell_type": "code",
   "execution_count": null,
   "metadata": {},
   "outputs": [],
   "source": [
    "sc.pl.highly_variable_genes(adata)"
   ]
  },
  {
   "cell_type": "code",
   "execution_count": null,
   "metadata": {},
   "outputs": [],
   "source": [
    "adata = adata[:, adata.var.highly_variable]"
   ]
  },
  {
   "cell_type": "code",
   "execution_count": null,
   "metadata": {},
   "outputs": [],
   "source": [
    "print(adata)"
   ]
  },
  {
   "cell_type": "raw",
   "metadata": {},
   "source": [
    "adata_transpose = adata.X\n",
    "print(adata_transpose.shape)"
   ]
  },
  {
   "cell_type": "code",
   "execution_count": null,
   "metadata": {},
   "outputs": [],
   "source": [
    "dist_mat = euclidean_distances(adata.X)"
   ]
  },
  {
   "cell_type": "raw",
   "metadata": {},
   "source": [
    "dist_mat = dist_mat.astype('float64')"
   ]
  },
  {
   "cell_type": "code",
   "execution_count": null,
   "metadata": {},
   "outputs": [],
   "source": [
    "data_reduced = TSNE(n_components=2, init='random').fit_transform(dist_mat)\n",
    "plt.scatter(data_reduced[:, 0], data_reduced[:, 1])"
   ]
  },
  {
   "cell_type": "code",
   "execution_count": null,
   "metadata": {},
   "outputs": [],
   "source": [
    "best_k_values = []\n",
    "for i in range(50):\n",
    "    data_reduced = TSNE(n_components=2, init='random').fit_transform(dist_mat)\n",
    "    # picked 10 randomly, @Alex is there a number we want that's interpretable here? 6? -> the paper did 20 btw\n",
    "    avgs = []\n",
    "    for n_clusters in range(2, 21):\n",
    "        clustering = KMeans(n_clusters=n_clusters, random_state=10)\n",
    "        cluster_labels = clustering.fit_predict(data_reduced)\n",
    "        silhouette_avg = silhouette_score(data_reduced, cluster_labels)\n",
    "        avgs.append(silhouette_avg)\n",
    "    best_k = np.argmax(avgs) + 2\n",
    "    best_k_values.append(best_k)"
   ]
  },
  {
   "cell_type": "code",
   "execution_count": null,
   "metadata": {},
   "outputs": [],
   "source": [
    "optimal_k = np.mean(best_k_values)\n",
    "optimal_k"
   ]
  },
  {
   "cell_type": "code",
   "execution_count": null,
   "metadata": {
    "scrolled": true
   },
   "outputs": [],
   "source": [
    "# now do k-means 10 times with k = optimal_k, save the optimal cluster values\n",
    "k = round(optimal_k)\n",
    "stability_scores = []\n",
    "cluster_centers = []\n",
    "cluster_labels = []\n",
    "datasets = []\n",
    "for i in range(10):\n",
    "    data_reduced = TSNE(n_components=2, init='random').fit_transform(dist_mat)\n",
    "    clustering = KMeans(n_clusters=k, random_state=10)\n",
    "    labels = clustering.fit_predict(data_reduced)\n",
    "    # resample\n",
    "    cluster_stability = 0\n",
    "    for j in range(30):\n",
    "        replace = binom.rvs(1, 0.05, size = dist_mat.shape[0])\n",
    "        replace = np.reshape(replace, (replace.shape[0], 1))\n",
    "        var = np.var(data_reduced, axis = 0)\n",
    "        mean = np.mean(data_reduced, axis = 0)\n",
    "        x_noise = norm.rvs(loc=mean[0], scale=np.sqrt(var[0]), size=dist_mat.shape[0], random_state=None)\n",
    "        y_noise = norm.rvs(loc=mean[1], scale=np.sqrt(var[1]), size=dist_mat.shape[1], random_state=None)\n",
    "        noise = np.vstack((x_noise, y_noise)).T\n",
    "        replace_noise = noise * replace\n",
    "        data_resampled = ((1 - replace) * data_reduced) + replace_noise\n",
    "        resampled_clustering = KMeans(n_clusters=k, random_state=10)\n",
    "        resampled_labels = resampled_clustering.fit_predict(data_reduced)\n",
    "        jc = jaccard_score(labels, resampled_labels, average = 'weighted')\n",
    "        if jc >= 0.75:\n",
    "            print(\"stable clustering detected\")\n",
    "            cluster_stability += 1\n",
    "    cluster_stability /= 30\n",
    "    stability_scores.append(cluster_stability)\n",
    "    cluster_centers.append(clustering.cluster_centers_)\n",
    "    cluster_labels.append(labels)\n",
    "    datasets.append(data_reduced)"
   ]
  },
  {
   "cell_type": "code",
   "execution_count": null,
   "metadata": {},
   "outputs": [],
   "source": [
    "stability_scores = np.array(stability_scores)\n",
    "stability_scores"
   ]
  },
  {
   "cell_type": "code",
   "execution_count": null,
   "metadata": {},
   "outputs": [],
   "source": [
    "best_cluster_centers = cluster_centers[np.argmax(stability_scores)]\n",
    "best_cluster_centers"
   ]
  },
  {
   "cell_type": "code",
   "execution_count": null,
   "metadata": {},
   "outputs": [],
   "source": [
    "data = datasets[np.argmax(stability_scores)]"
   ]
  },
  {
   "cell_type": "code",
   "execution_count": null,
   "metadata": {},
   "outputs": [],
   "source": [
    "plt.scatter(data[:, 0], data[:, 1], \n",
    "            c = cluster_labels[np.argmax(stability_scores)], cmap = \"viridis_r\")\n",
    "plt.scatter(best_cluster_centers[:, 0], best_cluster_centers[:, 1], c = \"red\")"
   ]
  },
  {
   "cell_type": "code",
   "execution_count": null,
   "metadata": {
    "scrolled": true
   },
   "outputs": [],
   "source": [
    "labels_to_ints = np.unique(adata.obs['manuscript_id'].to_list()).tolist()\n",
    "labels_to_colors = dict(zip(labels_to_ints, list(range(len(labels_to_ints)))))\n",
    "cell_type_id = list(map(lambda x: labels_to_colors[x], adata.obs['manuscript_id'].to_list()))\n",
    "\n",
    "plt.scatter(data[:, 0], data[:, 1], \n",
    "            c = cell_type_id, cmap = \"viridis_r\")\n",
    "plt.scatter(best_cluster_centers[:, 0], best_cluster_centers[:, 1], c = \"red\")"
   ]
  }
 ],
 "metadata": {
  "kernelspec": {
   "display_name": "Python 3",
   "language": "python",
   "name": "python3"
  },
  "language_info": {
   "codemirror_mode": {
    "name": "ipython",
    "version": 3
   },
   "file_extension": ".py",
   "mimetype": "text/x-python",
   "name": "python",
   "nbconvert_exporter": "python",
   "pygments_lexer": "ipython3",
   "version": "3.6.13"
  }
 },
 "nbformat": 4,
 "nbformat_minor": 4
}
